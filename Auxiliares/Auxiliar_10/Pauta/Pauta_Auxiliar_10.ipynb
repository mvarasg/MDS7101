{
 "cells": [
  {
   "attachments": {},
   "cell_type": "markdown",
   "metadata": {},
   "source": [
    "# Auxiliar 10 - Preparación Tarea 2\n",
    "\n",
    "Imagine que está trabajando en una importante empresa dedicada al ensamblaje y venta de dispositivos tecnológicos. Y se le encomendó dar respuesta a la siguiente pregunta de investigación: **¿Qué características y especificaciones definen el precio de una laptop?**. Para resolver este problema cuenta datos de una muestra de más de $800$ computadores personales en el mercado indio contenidos en el archivo $laptop\\_price.csv$.\n"
   ]
  },
  {
   "attachments": {},
   "cell_type": "markdown",
   "metadata": {},
   "source": [
    "Antes de realizar el análisis, cargamos las librerías importantes."
   ]
  },
  {
   "cell_type": "code",
   "execution_count": 32,
   "metadata": {},
   "outputs": [],
   "source": [
    "# Paquetes para tratamiento de datos\n",
    "import pandas as pd\n",
    "import numpy as np\n",
    "from itertools import product\n",
    "\n",
    "# Librerías gráficas\n",
    "import matplotlib.pyplot as plt\n",
    "import seaborn as sns\n",
    "import plotly.express as px\n",
    "\n",
    "# Paquetes estadísticos\n",
    "import scipy.stats as ss\n",
    "from scipy.stats import norm, lognorm, kstest, ttest_ind\n",
    "import statsmodels.api as sm\n",
    "import statsmodels.formula.api as smf\n",
    "from statsmodels.iolib.summary2 import summary_col\n",
    "import statsmodels.stats.api as sms\n",
    "from statsmodels.compat import lzip"
   ]
  },
  {
   "attachments": {},
   "cell_type": "markdown",
   "metadata": {},
   "source": [
    "Cargamos los datos."
   ]
  },
  {
   "cell_type": "code",
   "execution_count": 33,
   "metadata": {},
   "outputs": [
    {
     "data": {
      "text/html": [
       "<div>\n",
       "<style scoped>\n",
       "    .dataframe tbody tr th:only-of-type {\n",
       "        vertical-align: middle;\n",
       "    }\n",
       "\n",
       "    .dataframe tbody tr th {\n",
       "        vertical-align: top;\n",
       "    }\n",
       "\n",
       "    .dataframe thead th {\n",
       "        text-align: right;\n",
       "    }\n",
       "</style>\n",
       "<table border=\"1\" class=\"dataframe\">\n",
       "  <thead>\n",
       "    <tr style=\"text-align: right;\">\n",
       "      <th></th>\n",
       "      <th>brand</th>\n",
       "      <th>processor_brand</th>\n",
       "      <th>processor_name</th>\n",
       "      <th>processor_gnrtn</th>\n",
       "      <th>ram_gb</th>\n",
       "      <th>ram_type</th>\n",
       "      <th>ssd</th>\n",
       "      <th>hdd</th>\n",
       "      <th>os</th>\n",
       "      <th>os_bit</th>\n",
       "      <th>graphic_card_gb</th>\n",
       "      <th>warranty</th>\n",
       "      <th>Touchscreen</th>\n",
       "      <th>msoffice</th>\n",
       "      <th>Price</th>\n",
       "      <th>rating</th>\n",
       "      <th>Number of Ratings</th>\n",
       "      <th>Number of Reviews</th>\n",
       "    </tr>\n",
       "  </thead>\n",
       "  <tbody>\n",
       "    <tr>\n",
       "      <th>0</th>\n",
       "      <td>ASUS</td>\n",
       "      <td>Intel</td>\n",
       "      <td>Core i3</td>\n",
       "      <td>10th</td>\n",
       "      <td>4 GB</td>\n",
       "      <td>DDR4</td>\n",
       "      <td>0 GB</td>\n",
       "      <td>1024 GB</td>\n",
       "      <td>Windows</td>\n",
       "      <td>64-bit</td>\n",
       "      <td>0 GB</td>\n",
       "      <td>No warranty</td>\n",
       "      <td>No</td>\n",
       "      <td>No</td>\n",
       "      <td>34649</td>\n",
       "      <td>2 stars</td>\n",
       "      <td>3</td>\n",
       "      <td>0</td>\n",
       "    </tr>\n",
       "    <tr>\n",
       "      <th>1</th>\n",
       "      <td>Lenovo</td>\n",
       "      <td>Intel</td>\n",
       "      <td>Core i3</td>\n",
       "      <td>10th</td>\n",
       "      <td>4 GB</td>\n",
       "      <td>DDR4</td>\n",
       "      <td>0 GB</td>\n",
       "      <td>1024 GB</td>\n",
       "      <td>Windows</td>\n",
       "      <td>64-bit</td>\n",
       "      <td>0 GB</td>\n",
       "      <td>No warranty</td>\n",
       "      <td>No</td>\n",
       "      <td>No</td>\n",
       "      <td>38999</td>\n",
       "      <td>3 stars</td>\n",
       "      <td>65</td>\n",
       "      <td>5</td>\n",
       "    </tr>\n",
       "    <tr>\n",
       "      <th>2</th>\n",
       "      <td>Lenovo</td>\n",
       "      <td>Intel</td>\n",
       "      <td>Core i3</td>\n",
       "      <td>10th</td>\n",
       "      <td>4 GB</td>\n",
       "      <td>DDR4</td>\n",
       "      <td>0 GB</td>\n",
       "      <td>1024 GB</td>\n",
       "      <td>Windows</td>\n",
       "      <td>64-bit</td>\n",
       "      <td>0 GB</td>\n",
       "      <td>No warranty</td>\n",
       "      <td>No</td>\n",
       "      <td>No</td>\n",
       "      <td>39999</td>\n",
       "      <td>3 stars</td>\n",
       "      <td>8</td>\n",
       "      <td>1</td>\n",
       "    </tr>\n",
       "    <tr>\n",
       "      <th>3</th>\n",
       "      <td>ASUS</td>\n",
       "      <td>Intel</td>\n",
       "      <td>Core i5</td>\n",
       "      <td>10th</td>\n",
       "      <td>8 GB</td>\n",
       "      <td>DDR4</td>\n",
       "      <td>512 GB</td>\n",
       "      <td>0 GB</td>\n",
       "      <td>Windows</td>\n",
       "      <td>32-bit</td>\n",
       "      <td>2 GB</td>\n",
       "      <td>No warranty</td>\n",
       "      <td>No</td>\n",
       "      <td>No</td>\n",
       "      <td>69990</td>\n",
       "      <td>3 stars</td>\n",
       "      <td>0</td>\n",
       "      <td>0</td>\n",
       "    </tr>\n",
       "    <tr>\n",
       "      <th>4</th>\n",
       "      <td>ASUS</td>\n",
       "      <td>Intel</td>\n",
       "      <td>Celeron Dual</td>\n",
       "      <td>Not Available</td>\n",
       "      <td>4 GB</td>\n",
       "      <td>DDR4</td>\n",
       "      <td>0 GB</td>\n",
       "      <td>512 GB</td>\n",
       "      <td>Windows</td>\n",
       "      <td>64-bit</td>\n",
       "      <td>0 GB</td>\n",
       "      <td>No warranty</td>\n",
       "      <td>No</td>\n",
       "      <td>No</td>\n",
       "      <td>26990</td>\n",
       "      <td>3 stars</td>\n",
       "      <td>0</td>\n",
       "      <td>0</td>\n",
       "    </tr>\n",
       "  </tbody>\n",
       "</table>\n",
       "</div>"
      ],
      "text/plain": [
       "    brand processor_brand processor_name processor_gnrtn ram_gb ram_type  \\\n",
       "0    ASUS           Intel        Core i3            10th   4 GB     DDR4   \n",
       "1  Lenovo           Intel        Core i3            10th   4 GB     DDR4   \n",
       "2  Lenovo           Intel        Core i3            10th   4 GB     DDR4   \n",
       "3    ASUS           Intel        Core i5            10th   8 GB     DDR4   \n",
       "4    ASUS           Intel   Celeron Dual   Not Available   4 GB     DDR4   \n",
       "\n",
       "      ssd      hdd       os  os_bit graphic_card_gb     warranty Touchscreen  \\\n",
       "0    0 GB  1024 GB  Windows  64-bit            0 GB  No warranty          No   \n",
       "1    0 GB  1024 GB  Windows  64-bit            0 GB  No warranty          No   \n",
       "2    0 GB  1024 GB  Windows  64-bit            0 GB  No warranty          No   \n",
       "3  512 GB     0 GB  Windows  32-bit            2 GB  No warranty          No   \n",
       "4    0 GB   512 GB  Windows  64-bit            0 GB  No warranty          No   \n",
       "\n",
       "  msoffice  Price   rating  Number of Ratings  Number of Reviews  \n",
       "0       No  34649  2 stars                  3                  0  \n",
       "1       No  38999  3 stars                 65                  5  \n",
       "2       No  39999  3 stars                  8                  1  \n",
       "3       No  69990  3 stars                  0                  0  \n",
       "4       No  26990  3 stars                  0                  0  "
      ]
     },
     "execution_count": 33,
     "metadata": {},
     "output_type": "execute_result"
    }
   ],
   "source": [
    "data = pd.read_csv(\"laptop_price.csv\")\n",
    "data.head()"
   ]
  },
  {
   "attachments": {},
   "cell_type": "markdown",
   "metadata": {},
   "source": [
    "Comenzamos con el análisis exploratorio."
   ]
  },
  {
   "cell_type": "code",
   "execution_count": 34,
   "metadata": {},
   "outputs": [
    {
     "name": "stdout",
     "output_type": "stream",
     "text": [
      "<class 'pandas.core.frame.DataFrame'>\n",
      "RangeIndex: 823 entries, 0 to 822\n",
      "Data columns (total 18 columns):\n",
      " #   Column             Non-Null Count  Dtype \n",
      "---  ------             --------------  ----- \n",
      " 0   brand              823 non-null    object\n",
      " 1   processor_brand    823 non-null    object\n",
      " 2   processor_name     823 non-null    object\n",
      " 3   processor_gnrtn    823 non-null    object\n",
      " 4   ram_gb             823 non-null    object\n",
      " 5   ram_type           823 non-null    object\n",
      " 6   ssd                823 non-null    object\n",
      " 7   hdd                823 non-null    object\n",
      " 8   os                 823 non-null    object\n",
      " 9   os_bit             823 non-null    object\n",
      " 10  graphic_card_gb    823 non-null    object\n",
      " 11  warranty           823 non-null    object\n",
      " 12  Touchscreen        823 non-null    object\n",
      " 13  msoffice           823 non-null    object\n",
      " 14  Price              823 non-null    int64 \n",
      " 15  rating             823 non-null    object\n",
      " 16  Number of Ratings  823 non-null    int64 \n",
      " 17  Number of Reviews  823 non-null    int64 \n",
      "dtypes: int64(3), object(15)\n",
      "memory usage: 115.9+ KB\n"
     ]
    }
   ],
   "source": [
    "# Información general del set de datos\n",
    "data.info()"
   ]
  },
  {
   "cell_type": "code",
   "execution_count": 35,
   "metadata": {},
   "outputs": [
    {
     "data": {
      "text/plain": [
       "brand                0\n",
       "processor_brand      0\n",
       "processor_name       0\n",
       "processor_gnrtn      0\n",
       "ram_gb               0\n",
       "ram_type             0\n",
       "ssd                  0\n",
       "hdd                  0\n",
       "os                   0\n",
       "os_bit               0\n",
       "graphic_card_gb      0\n",
       "warranty             0\n",
       "Touchscreen          0\n",
       "msoffice             0\n",
       "Price                0\n",
       "rating               0\n",
       "Number of Ratings    0\n",
       "Number of Reviews    0\n",
       "dtype: int64"
      ]
     },
     "execution_count": 35,
     "metadata": {},
     "output_type": "execute_result"
    }
   ],
   "source": [
    "# Revisamos si hay datos nulos\n",
    "data.isnull().sum()"
   ]
  },
  {
   "cell_type": "code",
   "execution_count": 36,
   "metadata": {},
   "outputs": [
    {
     "data": {
      "text/html": [
       "<div>\n",
       "<style scoped>\n",
       "    .dataframe tbody tr th:only-of-type {\n",
       "        vertical-align: middle;\n",
       "    }\n",
       "\n",
       "    .dataframe tbody tr th {\n",
       "        vertical-align: top;\n",
       "    }\n",
       "\n",
       "    .dataframe thead th {\n",
       "        text-align: right;\n",
       "    }\n",
       "</style>\n",
       "<table border=\"1\" class=\"dataframe\">\n",
       "  <thead>\n",
       "    <tr style=\"text-align: right;\">\n",
       "      <th></th>\n",
       "      <th>Price</th>\n",
       "      <th>Number of Ratings</th>\n",
       "      <th>Number of Reviews</th>\n",
       "    </tr>\n",
       "  </thead>\n",
       "  <tbody>\n",
       "    <tr>\n",
       "      <th>count</th>\n",
       "      <td>823.000000</td>\n",
       "      <td>823.000000</td>\n",
       "      <td>823.000000</td>\n",
       "    </tr>\n",
       "    <tr>\n",
       "      <th>mean</th>\n",
       "      <td>76745.177400</td>\n",
       "      <td>315.301337</td>\n",
       "      <td>37.609964</td>\n",
       "    </tr>\n",
       "    <tr>\n",
       "      <th>std</th>\n",
       "      <td>45101.790525</td>\n",
       "      <td>1047.382654</td>\n",
       "      <td>121.728017</td>\n",
       "    </tr>\n",
       "    <tr>\n",
       "      <th>min</th>\n",
       "      <td>16990.000000</td>\n",
       "      <td>0.000000</td>\n",
       "      <td>0.000000</td>\n",
       "    </tr>\n",
       "    <tr>\n",
       "      <th>25%</th>\n",
       "      <td>46095.000000</td>\n",
       "      <td>0.000000</td>\n",
       "      <td>0.000000</td>\n",
       "    </tr>\n",
       "    <tr>\n",
       "      <th>50%</th>\n",
       "      <td>64990.000000</td>\n",
       "      <td>17.000000</td>\n",
       "      <td>2.000000</td>\n",
       "    </tr>\n",
       "    <tr>\n",
       "      <th>75%</th>\n",
       "      <td>89636.000000</td>\n",
       "      <td>139.500000</td>\n",
       "      <td>18.000000</td>\n",
       "    </tr>\n",
       "    <tr>\n",
       "      <th>max</th>\n",
       "      <td>441990.000000</td>\n",
       "      <td>15279.000000</td>\n",
       "      <td>1947.000000</td>\n",
       "    </tr>\n",
       "  </tbody>\n",
       "</table>\n",
       "</div>"
      ],
      "text/plain": [
       "               Price  Number of Ratings  Number of Reviews\n",
       "count     823.000000         823.000000         823.000000\n",
       "mean    76745.177400         315.301337          37.609964\n",
       "std     45101.790525        1047.382654         121.728017\n",
       "min     16990.000000           0.000000           0.000000\n",
       "25%     46095.000000           0.000000           0.000000\n",
       "50%     64990.000000          17.000000           2.000000\n",
       "75%     89636.000000         139.500000          18.000000\n",
       "max    441990.000000       15279.000000        1947.000000"
      ]
     },
     "execution_count": 36,
     "metadata": {},
     "output_type": "execute_result"
    }
   ],
   "source": [
    "# Estadística descriptiva de los atributos numéricos\n",
    "data.describe()"
   ]
  },
  {
   "cell_type": "code",
   "execution_count": 37,
   "metadata": {},
   "outputs": [
    {
     "data": {
      "text/html": [
       "<div>\n",
       "<style scoped>\n",
       "    .dataframe tbody tr th:only-of-type {\n",
       "        vertical-align: middle;\n",
       "    }\n",
       "\n",
       "    .dataframe tbody tr th {\n",
       "        vertical-align: top;\n",
       "    }\n",
       "\n",
       "    .dataframe thead th {\n",
       "        text-align: right;\n",
       "    }\n",
       "</style>\n",
       "<table border=\"1\" class=\"dataframe\">\n",
       "  <thead>\n",
       "    <tr style=\"text-align: right;\">\n",
       "      <th></th>\n",
       "      <th></th>\n",
       "      <th>count</th>\n",
       "    </tr>\n",
       "    <tr>\n",
       "      <th>column</th>\n",
       "      <th>value</th>\n",
       "      <th></th>\n",
       "    </tr>\n",
       "  </thead>\n",
       "  <tbody>\n",
       "    <tr>\n",
       "      <th rowspan=\"2\" valign=\"top\">Touchscreen</th>\n",
       "      <th>Yes</th>\n",
       "      <td>97</td>\n",
       "    </tr>\n",
       "    <tr>\n",
       "      <th>No</th>\n",
       "      <td>726</td>\n",
       "    </tr>\n",
       "    <tr>\n",
       "      <th rowspan=\"8\" valign=\"top\">brand</th>\n",
       "      <th>Avita</th>\n",
       "      <td>14</td>\n",
       "    </tr>\n",
       "    <tr>\n",
       "      <th>APPLE</th>\n",
       "      <td>28</td>\n",
       "    </tr>\n",
       "    <tr>\n",
       "      <th>MSI</th>\n",
       "      <td>50</td>\n",
       "    </tr>\n",
       "    <tr>\n",
       "      <th>acer</th>\n",
       "      <td>51</td>\n",
       "    </tr>\n",
       "    <tr>\n",
       "      <th>HP</th>\n",
       "      <td>136</td>\n",
       "    </tr>\n",
       "    <tr>\n",
       "      <th>Lenovo</th>\n",
       "      <td>144</td>\n",
       "    </tr>\n",
       "    <tr>\n",
       "      <th>DELL</th>\n",
       "      <td>151</td>\n",
       "    </tr>\n",
       "    <tr>\n",
       "      <th>ASUS</th>\n",
       "      <td>249</td>\n",
       "    </tr>\n",
       "    <tr>\n",
       "      <th rowspan=\"5\" valign=\"top\">graphic_card_gb</th>\n",
       "      <th>8 GB</th>\n",
       "      <td>14</td>\n",
       "    </tr>\n",
       "    <tr>\n",
       "      <th>6 GB</th>\n",
       "      <td>37</td>\n",
       "    </tr>\n",
       "    <tr>\n",
       "      <th>2 GB</th>\n",
       "      <td>67</td>\n",
       "    </tr>\n",
       "    <tr>\n",
       "      <th>4 GB</th>\n",
       "      <td>128</td>\n",
       "    </tr>\n",
       "    <tr>\n",
       "      <th>0 GB</th>\n",
       "      <td>577</td>\n",
       "    </tr>\n",
       "    <tr>\n",
       "      <th rowspan=\"4\" valign=\"top\">hdd</th>\n",
       "      <th>2048 GB</th>\n",
       "      <td>1</td>\n",
       "    </tr>\n",
       "    <tr>\n",
       "      <th>512 GB</th>\n",
       "      <td>41</td>\n",
       "    </tr>\n",
       "    <tr>\n",
       "      <th>1024 GB</th>\n",
       "      <td>160</td>\n",
       "    </tr>\n",
       "    <tr>\n",
       "      <th>0 GB</th>\n",
       "      <td>621</td>\n",
       "    </tr>\n",
       "    <tr>\n",
       "      <th rowspan=\"2\" valign=\"top\">msoffice</th>\n",
       "      <th>Yes</th>\n",
       "      <td>281</td>\n",
       "    </tr>\n",
       "    <tr>\n",
       "      <th>No</th>\n",
       "      <td>542</td>\n",
       "    </tr>\n",
       "    <tr>\n",
       "      <th rowspan=\"3\" valign=\"top\">os</th>\n",
       "      <th>DOS</th>\n",
       "      <td>16</td>\n",
       "    </tr>\n",
       "    <tr>\n",
       "      <th>Mac</th>\n",
       "      <td>28</td>\n",
       "    </tr>\n",
       "    <tr>\n",
       "      <th>Windows</th>\n",
       "      <td>779</td>\n",
       "    </tr>\n",
       "    <tr>\n",
       "      <th rowspan=\"2\" valign=\"top\">os_bit</th>\n",
       "      <th>32-bit</th>\n",
       "      <td>109</td>\n",
       "    </tr>\n",
       "    <tr>\n",
       "      <th>64-bit</th>\n",
       "      <td>714</td>\n",
       "    </tr>\n",
       "    <tr>\n",
       "      <th rowspan=\"3\" valign=\"top\">processor_brand</th>\n",
       "      <th>M1</th>\n",
       "      <td>24</td>\n",
       "    </tr>\n",
       "    <tr>\n",
       "      <th>AMD</th>\n",
       "      <td>189</td>\n",
       "    </tr>\n",
       "    <tr>\n",
       "      <th>Intel</th>\n",
       "      <td>610</td>\n",
       "    </tr>\n",
       "    <tr>\n",
       "      <th rowspan=\"8\" valign=\"top\">processor_gnrtn</th>\n",
       "      <th>4th</th>\n",
       "      <td>1</td>\n",
       "    </tr>\n",
       "    <tr>\n",
       "      <th>12th</th>\n",
       "      <td>3</td>\n",
       "    </tr>\n",
       "    <tr>\n",
       "      <th>9th</th>\n",
       "      <td>6</td>\n",
       "    </tr>\n",
       "    <tr>\n",
       "      <th>7th</th>\n",
       "      <td>9</td>\n",
       "    </tr>\n",
       "    <tr>\n",
       "      <th>8th</th>\n",
       "      <td>41</td>\n",
       "    </tr>\n",
       "    <tr>\n",
       "      <th>10th</th>\n",
       "      <td>204</td>\n",
       "    </tr>\n",
       "    <tr>\n",
       "      <th>Not Available</th>\n",
       "      <td>225</td>\n",
       "    </tr>\n",
       "    <tr>\n",
       "      <th>11th</th>\n",
       "      <td>334</td>\n",
       "    </tr>\n",
       "    <tr>\n",
       "      <th rowspan=\"11\" valign=\"top\">processor_name</th>\n",
       "      <th>Core i9</th>\n",
       "      <td>8</td>\n",
       "    </tr>\n",
       "    <tr>\n",
       "      <th>Pentium Quad</th>\n",
       "      <td>13</td>\n",
       "    </tr>\n",
       "    <tr>\n",
       "      <th>Celeron Dual</th>\n",
       "      <td>24</td>\n",
       "    </tr>\n",
       "    <tr>\n",
       "      <th>M1</th>\n",
       "      <td>24</td>\n",
       "    </tr>\n",
       "    <tr>\n",
       "      <th>Ryzen 3</th>\n",
       "      <td>26</td>\n",
       "    </tr>\n",
       "    <tr>\n",
       "      <th>Ryzen 9</th>\n",
       "      <td>26</td>\n",
       "    </tr>\n",
       "    <tr>\n",
       "      <th>Ryzen 7</th>\n",
       "      <td>56</td>\n",
       "    </tr>\n",
       "    <tr>\n",
       "      <th>Ryzen 5</th>\n",
       "      <td>82</td>\n",
       "    </tr>\n",
       "    <tr>\n",
       "      <th>Core i7</th>\n",
       "      <td>110</td>\n",
       "    </tr>\n",
       "    <tr>\n",
       "      <th>Core i3</th>\n",
       "      <td>164</td>\n",
       "    </tr>\n",
       "    <tr>\n",
       "      <th>Core i5</th>\n",
       "      <td>290</td>\n",
       "    </tr>\n",
       "    <tr>\n",
       "      <th rowspan=\"4\" valign=\"top\">ram_gb</th>\n",
       "      <th>32 GB</th>\n",
       "      <td>2</td>\n",
       "    </tr>\n",
       "    <tr>\n",
       "      <th>16 GB</th>\n",
       "      <td>177</td>\n",
       "    </tr>\n",
       "    <tr>\n",
       "      <th>4 GB</th>\n",
       "      <td>226</td>\n",
       "    </tr>\n",
       "    <tr>\n",
       "      <th>8 GB</th>\n",
       "      <td>418</td>\n",
       "    </tr>\n",
       "    <tr>\n",
       "      <th rowspan=\"6\" valign=\"top\">ram_type</th>\n",
       "      <th>DDR3</th>\n",
       "      <td>7</td>\n",
       "    </tr>\n",
       "    <tr>\n",
       "      <th>DDR5</th>\n",
       "      <td>8</td>\n",
       "    </tr>\n",
       "    <tr>\n",
       "      <th>LPDDR3</th>\n",
       "      <td>14</td>\n",
       "    </tr>\n",
       "    <tr>\n",
       "      <th>LPDDR4</th>\n",
       "      <td>27</td>\n",
       "    </tr>\n",
       "    <tr>\n",
       "      <th>LPDDR4X</th>\n",
       "      <td>58</td>\n",
       "    </tr>\n",
       "    <tr>\n",
       "      <th>DDR4</th>\n",
       "      <td>709</td>\n",
       "    </tr>\n",
       "    <tr>\n",
       "      <th rowspan=\"5\" valign=\"top\">rating</th>\n",
       "      <th>1 star</th>\n",
       "      <td>2</td>\n",
       "    </tr>\n",
       "    <tr>\n",
       "      <th>2 stars</th>\n",
       "      <td>9</td>\n",
       "    </tr>\n",
       "    <tr>\n",
       "      <th>5 stars</th>\n",
       "      <td>16</td>\n",
       "    </tr>\n",
       "    <tr>\n",
       "      <th>3 stars</th>\n",
       "      <td>352</td>\n",
       "    </tr>\n",
       "    <tr>\n",
       "      <th>4 stars</th>\n",
       "      <td>444</td>\n",
       "    </tr>\n",
       "    <tr>\n",
       "      <th rowspan=\"7\" valign=\"top\">ssd</th>\n",
       "      <th>3072 GB</th>\n",
       "      <td>1</td>\n",
       "    </tr>\n",
       "    <tr>\n",
       "      <th>2048 GB</th>\n",
       "      <td>2</td>\n",
       "    </tr>\n",
       "    <tr>\n",
       "      <th>128 GB</th>\n",
       "      <td>3</td>\n",
       "    </tr>\n",
       "    <tr>\n",
       "      <th>1024 GB</th>\n",
       "      <td>111</td>\n",
       "    </tr>\n",
       "    <tr>\n",
       "      <th>0 GB</th>\n",
       "      <td>124</td>\n",
       "    </tr>\n",
       "    <tr>\n",
       "      <th>256 GB</th>\n",
       "      <td>184</td>\n",
       "    </tr>\n",
       "    <tr>\n",
       "      <th>512 GB</th>\n",
       "      <td>398</td>\n",
       "    </tr>\n",
       "    <tr>\n",
       "      <th rowspan=\"4\" valign=\"top\">warranty</th>\n",
       "      <th>3 years</th>\n",
       "      <td>13</td>\n",
       "    </tr>\n",
       "    <tr>\n",
       "      <th>2 years</th>\n",
       "      <td>23</td>\n",
       "    </tr>\n",
       "    <tr>\n",
       "      <th>No warranty</th>\n",
       "      <td>278</td>\n",
       "    </tr>\n",
       "    <tr>\n",
       "      <th>1 year</th>\n",
       "      <td>509</td>\n",
       "    </tr>\n",
       "  </tbody>\n",
       "</table>\n",
       "</div>"
      ],
      "text/plain": [
       "                               count\n",
       "column          value               \n",
       "Touchscreen     Yes               97\n",
       "                No               726\n",
       "brand           Avita             14\n",
       "                APPLE             28\n",
       "                MSI               50\n",
       "                acer              51\n",
       "                HP               136\n",
       "                Lenovo           144\n",
       "                DELL             151\n",
       "                ASUS             249\n",
       "graphic_card_gb 8 GB              14\n",
       "                6 GB              37\n",
       "                2 GB              67\n",
       "                4 GB             128\n",
       "                0 GB             577\n",
       "hdd             2048 GB            1\n",
       "                512 GB            41\n",
       "                1024 GB          160\n",
       "                0 GB             621\n",
       "msoffice        Yes              281\n",
       "                No               542\n",
       "os              DOS               16\n",
       "                Mac               28\n",
       "                Windows          779\n",
       "os_bit          32-bit           109\n",
       "                64-bit           714\n",
       "processor_brand M1                24\n",
       "                AMD              189\n",
       "                Intel            610\n",
       "processor_gnrtn 4th                1\n",
       "                12th               3\n",
       "                9th                6\n",
       "                7th                9\n",
       "                8th               41\n",
       "                10th             204\n",
       "                Not Available    225\n",
       "                11th             334\n",
       "processor_name  Core i9            8\n",
       "                Pentium Quad      13\n",
       "                Celeron Dual      24\n",
       "                M1                24\n",
       "                Ryzen 3           26\n",
       "                Ryzen 9           26\n",
       "                Ryzen 7           56\n",
       "                Ryzen 5           82\n",
       "                Core i7          110\n",
       "                Core i3          164\n",
       "                Core i5          290\n",
       "ram_gb          32 GB              2\n",
       "                16 GB            177\n",
       "                4 GB             226\n",
       "                8 GB             418\n",
       "ram_type        DDR3               7\n",
       "                DDR5               8\n",
       "                LPDDR3            14\n",
       "                LPDDR4            27\n",
       "                LPDDR4X           58\n",
       "                DDR4             709\n",
       "rating          1 star             2\n",
       "                2 stars            9\n",
       "                5 stars           16\n",
       "                3 stars          352\n",
       "                4 stars          444\n",
       "ssd             3072 GB            1\n",
       "                2048 GB            2\n",
       "                128 GB             3\n",
       "                1024 GB          111\n",
       "                0 GB             124\n",
       "                256 GB           184\n",
       "                512 GB           398\n",
       "warranty        3 years           13\n",
       "                2 years           23\n",
       "                No warranty      278\n",
       "                1 year           509"
      ]
     },
     "execution_count": 37,
     "metadata": {},
     "output_type": "execute_result"
    }
   ],
   "source": [
    "pd.set_option(\"display.max_rows\", 100)\n",
    "\n",
    "cat_cols = data.select_dtypes(include=object).columns.tolist()\n",
    "pd.DataFrame(\n",
    "    data[cat_cols]\n",
    "    .melt(var_name='column', value_name='value')\n",
    "    .value_counts()).rename(columns={0: 'count'}).sort_values(by=['column', 'count'])"
   ]
  },
  {
   "attachments": {},
   "cell_type": "markdown",
   "metadata": {},
   "source": [
    "Para ver si un par de variables categóricas se correlacionan, se puede ejecutar un test de hipótesis Chi cuadrado cuyas hipótesis son:\n",
    "\n",
    "$$\n",
    "\\begin{align*}\n",
    "H_0 &: \\text{Las variables categóricas A y B no se correlacionan} \\\\\n",
    "H_A &: \\sim\n",
    "\\end{align*}\n",
    "$$"
   ]
  },
  {
   "cell_type": "code",
   "execution_count": 38,
   "metadata": {},
   "outputs": [
    {
     "data": {
      "text/plain": [
       "[('brand', 'processor_brand', 1.0271550838751217e-144),\n",
       " ('brand', 'processor_name', 4.467314771852374e-146),\n",
       " ('brand', 'processor_gnrtn', 9.02526331510535e-47),\n",
       " ('brand', 'ram_gb', 5.963330106555889e-09),\n",
       " ('brand', 'ram_type', 2.0928073385558767e-09),\n",
       " ('brand', 'ssd', 2.8212345253634296e-09),\n",
       " ('brand', 'hdd', 5.2455867871530904e-08),\n",
       " ('brand', 'os', 2.4436350383484196e-175),\n",
       " ('brand', 'os_bit', 0.0323002884671934),\n",
       " ('brand', 'graphic_card_gb', 1.9908239538922718e-14),\n",
       " ('brand', 'warranty', 2.3434292444009845e-38),\n",
       " ('brand', 'Touchscreen', 0.004298233685772673),\n",
       " ('brand', 'msoffice', 3.164274969071167e-28),\n",
       " ('brand', 'rating', 1.1102622057490958e-05),\n",
       " ('processor_brand', 'brand', 1.0271550838751217e-144),\n",
       " ('processor_brand', 'processor_name', 0.0),\n",
       " ('processor_brand', 'processor_gnrtn', 1.3533038900020305e-136),\n",
       " ('processor_brand', 'ram_gb', 1.774306285066094e-22),\n",
       " ('processor_brand', 'ram_type', 0.01026790778507657),\n",
       " ('processor_brand', 'ssd', 1.7324203941725554e-06),\n",
       " ('processor_brand', 'hdd', 0.0008498032866918219),\n",
       " ('processor_brand', 'os', 2.960341144110328e-151),\n",
       " ('processor_brand', 'os_bit', 0.07600005453868362),\n",
       " ('processor_brand', 'graphic_card_gb', 6.758856691061711e-08),\n",
       " ('processor_brand', 'warranty', 6.711638207913576e-05),\n",
       " ('processor_brand', 'Touchscreen', 0.18614598395574883),\n",
       " ('processor_brand', 'msoffice', 0.0012009893181223136),\n",
       " ('processor_brand', 'rating', 0.002018788473473625),\n",
       " ('processor_name', 'brand', 4.467314771852374e-146),\n",
       " ('processor_name', 'processor_brand', 0.0),\n",
       " ('processor_name', 'processor_gnrtn', 7.819797840156733e-154),\n",
       " ('processor_name', 'ram_gb', 1.6105428666224598e-149),\n",
       " ('processor_name', 'ram_type', 3.118642670850711e-25),\n",
       " ('processor_name', 'ssd', 5.835964905964136e-118),\n",
       " ('processor_name', 'hdd', 3.2275851713195387e-53),\n",
       " ('processor_name', 'os', 3.0218846602494567e-140),\n",
       " ('processor_name', 'os_bit', 0.00017390203525286056),\n",
       " ('processor_name', 'graphic_card_gb', 1.0928613786062835e-58),\n",
       " ('processor_name', 'warranty', 1.9372378609118605e-07),\n",
       " ('processor_name', 'Touchscreen', 0.005867425379285298),\n",
       " ('processor_name', 'msoffice', 2.291036703510342e-05),\n",
       " ('processor_name', 'rating', 0.00010233445161833692),\n",
       " ('processor_gnrtn', 'brand', 9.025263315105343e-47),\n",
       " ('processor_gnrtn', 'processor_brand', 1.3533038900020305e-136),\n",
       " ('processor_gnrtn', 'processor_name', 7.819797840156731e-154),\n",
       " ('processor_gnrtn', 'ram_gb', 8.603249968016948e-31),\n",
       " ('processor_gnrtn', 'ram_type', 9.452683061119249e-65),\n",
       " ('processor_gnrtn', 'ssd', 1.8107847202639263e-11),\n",
       " ('processor_gnrtn', 'hdd', 8.816707671184713e-09),\n",
       " ('processor_gnrtn', 'os', 1.4341740546665125e-21),\n",
       " ('processor_gnrtn', 'os_bit', 0.02929610032042544),\n",
       " ('processor_gnrtn', 'graphic_card_gb', 2.0714750639130506e-15),\n",
       " ('processor_gnrtn', 'warranty', 0.0030203361310956202),\n",
       " ('processor_gnrtn', 'Touchscreen', 0.0019065698500795706),\n",
       " ('processor_gnrtn', 'msoffice', 0.0001335692598165699),\n",
       " ('processor_gnrtn', 'rating', 0.44517463457976936),\n",
       " ('ram_gb', 'brand', 5.963330106555889e-09),\n",
       " ('ram_gb', 'processor_brand', 1.7743062850660935e-22),\n",
       " ('ram_gb', 'processor_name', 1.6105428666225516e-149),\n",
       " ('ram_gb', 'processor_gnrtn', 8.603249968016826e-31),\n",
       " ('ram_gb', 'ram_type', 0.013176333465830794),\n",
       " ('ram_gb', 'ssd', 2.854208447195179e-36),\n",
       " ('ram_gb', 'hdd', 5.920414422355954e-06),\n",
       " ('ram_gb', 'os', 4.655309421934247e-07),\n",
       " ('ram_gb', 'os_bit', 0.0014532623069416415),\n",
       " ('ram_gb', 'graphic_card_gb', 1.4528628111872525e-22),\n",
       " ('ram_gb', 'warranty', 0.49601814947435596),\n",
       " ('ram_gb', 'Touchscreen', 0.2995422617015948),\n",
       " ('ram_gb', 'msoffice', 0.4862260434082091),\n",
       " ('ram_gb', 'rating', 7.406716262760314e-08),\n",
       " ('ram_type', 'brand', 2.092807338555908e-09),\n",
       " ('ram_type', 'processor_brand', 0.010267907785076552),\n",
       " ('ram_type', 'processor_name', 3.1186426708506665e-25),\n",
       " ('ram_type', 'processor_gnrtn', 9.452683061119249e-65),\n",
       " ('ram_type', 'ram_gb', 0.013176333465830794),\n",
       " ('ram_type', 'ssd', 5.6145738251199606e-33),\n",
       " ('ram_type', 'hdd', 1.9122655269368731e-84),\n",
       " ('ram_type', 'os', 2.806287699316241e-73),\n",
       " ('ram_type', 'os_bit', 2.440125448905371e-28),\n",
       " ('ram_type', 'graphic_card_gb', 0.00011866528084464312),\n",
       " ('ram_type', 'warranty', 3.365373256621304e-05),\n",
       " ('ram_type', 'Touchscreen', 1.738201497868599e-21),\n",
       " ('ram_type', 'msoffice', 0.005715984822032627),\n",
       " ('ram_type', 'rating', 6.948112551727287e-13),\n",
       " ('ssd', 'brand', 2.8212345253634098e-09),\n",
       " ('ssd', 'processor_brand', 1.7324203941725554e-06),\n",
       " ('ssd', 'processor_name', 5.83596490596447e-118),\n",
       " ('ssd', 'processor_gnrtn', 1.810784720263899e-11),\n",
       " ('ssd', 'ram_gb', 2.854208447195179e-36),\n",
       " ('ssd', 'ram_type', 5.6145738251199606e-33),\n",
       " ('ssd', 'hdd', 1.67854187042168e-121),\n",
       " ('ssd', 'os', 1.4614920530462642e-13),\n",
       " ('ssd', 'os_bit', 1.192439792605428e-18),\n",
       " ('ssd', 'graphic_card_gb', 2.8787055228102475e-32),\n",
       " ('ssd', 'warranty', 1.1809255446782418e-06),\n",
       " ('ssd', 'Touchscreen', 2.286074833735493e-07),\n",
       " ('ssd', 'msoffice', 4.256297519215988e-06),\n",
       " ('ssd', 'rating', 1.4813507627363328e-09),\n",
       " ('hdd', 'brand', 5.2455867871530904e-08),\n",
       " ('hdd', 'processor_brand', 0.0008498032866918219),\n",
       " ('hdd', 'processor_name', 3.2275851713195387e-53),\n",
       " ('hdd', 'processor_gnrtn', 8.816707671184649e-09),\n",
       " ('hdd', 'ram_gb', 5.920414422355973e-06),\n",
       " ('hdd', 'ram_type', 1.9122655269369273e-84),\n",
       " ('hdd', 'ssd', 1.67854187042168e-121),\n",
       " ('hdd', 'os', 1.4145258844379412e-57),\n",
       " ('hdd', 'os_bit', 1.7578058614605758e-30),\n",
       " ('hdd', 'graphic_card_gb', 0.0008659712029396213),\n",
       " ('hdd', 'warranty', 2.6808814145610738e-12),\n",
       " ('hdd', 'Touchscreen', 9.554342491392158e-07),\n",
       " ('hdd', 'msoffice', 3.7167784627145254e-06),\n",
       " ('hdd', 'rating', 0.14934648346542825),\n",
       " ('os', 'brand', 2.4436350383484196e-175),\n",
       " ('os', 'processor_brand', 2.960341144110328e-151),\n",
       " ('os', 'processor_name', 3.0218846602498e-140),\n",
       " ('os', 'processor_gnrtn', 1.4341740546665125e-21),\n",
       " ('os', 'ram_gb', 4.655309421934247e-07),\n",
       " ('os', 'ram_type', 2.806287699316241e-73),\n",
       " ('os', 'ssd', 1.4614920530462749e-13),\n",
       " ('os', 'hdd', 1.4145258844379412e-57),\n",
       " ('os', 'os_bit', 1.86239005203844e-21),\n",
       " ('os', 'graphic_card_gb', 2.973293017008139e-07),\n",
       " ('os', 'warranty', 1.0883856249352565e-06),\n",
       " ('os', 'Touchscreen', 0.04480575188390178),\n",
       " ('os', 'msoffice', 5.843737545962011e-06),\n",
       " ('os', 'rating', 4.535166014625286e-08),\n",
       " ('os_bit', 'brand', 0.0323002884671934),\n",
       " ('os_bit', 'processor_brand', 0.07600005453868362),\n",
       " ('os_bit', 'processor_name', 0.00017390203525286056),\n",
       " ('os_bit', 'processor_gnrtn', 0.029296100320425407),\n",
       " ('os_bit', 'ram_gb', 0.0014532623069416415),\n",
       " ('os_bit', 'ram_type', 2.440125448905371e-28),\n",
       " ('os_bit', 'ssd', 1.1924397926054364e-18),\n",
       " ('os_bit', 'hdd', 1.7578058614605758e-30),\n",
       " ('os_bit', 'os', 1.86239005203844e-21),\n",
       " ('os_bit', 'graphic_card_gb', 0.004115770722190832),\n",
       " ('os_bit', 'warranty', 2.83140910946003e-19),\n",
       " ('os_bit', 'Touchscreen', 0.019125191729697035),\n",
       " ('os_bit', 'msoffice', 7.036346391143388e-06),\n",
       " ('os_bit', 'rating', 0.008558824207770292),\n",
       " ('graphic_card_gb', 'brand', 1.9908239538922718e-14),\n",
       " ('graphic_card_gb', 'processor_brand', 6.758856691061711e-08),\n",
       " ('graphic_card_gb', 'processor_name', 1.0928613786062835e-58),\n",
       " ('graphic_card_gb', 'processor_gnrtn', 2.0714750639130814e-15),\n",
       " ('graphic_card_gb', 'ram_gb', 1.4528628111872525e-22),\n",
       " ('graphic_card_gb', 'ram_type', 0.00011866528084464264),\n",
       " ('graphic_card_gb', 'ssd', 2.8787055228102475e-32),\n",
       " ('graphic_card_gb', 'hdd', 0.0008659712029396213),\n",
       " ('graphic_card_gb', 'os', 2.973293017008139e-07),\n",
       " ('graphic_card_gb', 'os_bit', 0.004115770722190831),\n",
       " ('graphic_card_gb', 'warranty', 0.04528691496990595),\n",
       " ('graphic_card_gb', 'Touchscreen', 0.05843309886037277),\n",
       " ('graphic_card_gb', 'msoffice', 0.00010670814741658067),\n",
       " ('graphic_card_gb', 'rating', 0.6494483400541808),\n",
       " ('warranty', 'brand', 2.3434292444009845e-38),\n",
       " ('warranty', 'processor_brand', 6.711638207913576e-05),\n",
       " ('warranty', 'processor_name', 1.9372378609118605e-07),\n",
       " ('warranty', 'processor_gnrtn', 0.0030203361310956202),\n",
       " ('warranty', 'ram_gb', 0.49601814947435563),\n",
       " ('warranty', 'ram_type', 3.365373256621304e-05),\n",
       " ('warranty', 'ssd', 1.1809255446782505e-06),\n",
       " ('warranty', 'hdd', 2.680881414561113e-12),\n",
       " ('warranty', 'os', 1.0883856249352565e-06),\n",
       " ('warranty', 'os_bit', 2.83140910946003e-19),\n",
       " ('warranty', 'graphic_card_gb', 0.04528691496990595),\n",
       " ('warranty', 'Touchscreen', 2.062223808513589e-10),\n",
       " ('warranty', 'msoffice', 4.524238650238415e-47),\n",
       " ('warranty', 'rating', 4.980983649795264e-09),\n",
       " ('Touchscreen', 'brand', 0.004298233685772673),\n",
       " ('Touchscreen', 'processor_brand', 0.18614598395574883),\n",
       " ('Touchscreen', 'processor_name', 0.005867425379285298),\n",
       " ('Touchscreen', 'processor_gnrtn', 0.0019065698500795706),\n",
       " ('Touchscreen', 'ram_gb', 0.2995422617015948),\n",
       " ('Touchscreen', 'ram_type', 1.738201497868599e-21),\n",
       " ('Touchscreen', 'ssd', 2.286074833735493e-07),\n",
       " ('Touchscreen', 'hdd', 9.554342491392158e-07),\n",
       " ('Touchscreen', 'os', 0.04480575188390178),\n",
       " ('Touchscreen', 'os_bit', 0.019125191729697046),\n",
       " ('Touchscreen', 'graphic_card_gb', 0.058433098860372804),\n",
       " ('Touchscreen', 'warranty', 2.0622238085135827e-10),\n",
       " ('Touchscreen', 'msoffice', 3.354506151402979e-07),\n",
       " ('Touchscreen', 'rating', 0.5283795080283953),\n",
       " ('msoffice', 'brand', 3.1642749690712135e-28),\n",
       " ('msoffice', 'processor_brand', 0.0012009893181223136),\n",
       " ('msoffice', 'processor_name', 2.291036703510342e-05),\n",
       " ('msoffice', 'processor_gnrtn', 0.0001335692598165698),\n",
       " ('msoffice', 'ram_gb', 0.4862260434082091),\n",
       " ('msoffice', 'ram_type', 0.005715984822032635),\n",
       " ('msoffice', 'ssd', 4.256297519215995e-06),\n",
       " ('msoffice', 'hdd', 3.7167784627145254e-06),\n",
       " ('msoffice', 'os', 5.843737545962011e-06),\n",
       " ('msoffice', 'os_bit', 7.036346391143399e-06),\n",
       " ('msoffice', 'graphic_card_gb', 0.00010670814741658067),\n",
       " ('msoffice', 'warranty', 4.524238650238547e-47),\n",
       " ('msoffice', 'Touchscreen', 3.354506151402979e-07),\n",
       " ('msoffice', 'rating', 2.90214078925919e-07),\n",
       " ('rating', 'brand', 1.1102622057490958e-05),\n",
       " ('rating', 'processor_brand', 0.002018788473473625),\n",
       " ('rating', 'processor_name', 0.00010233445161833698),\n",
       " ('rating', 'processor_gnrtn', 0.44517463457976936),\n",
       " ('rating', 'ram_gb', 7.406716262760314e-08),\n",
       " ('rating', 'ram_type', 6.948112551727288e-13),\n",
       " ('rating', 'ssd', 1.481350762736322e-09),\n",
       " ('rating', 'hdd', 0.14934648346542825),\n",
       " ('rating', 'os', 4.535166014625268e-08),\n",
       " ('rating', 'os_bit', 0.008558824207770292),\n",
       " ('rating', 'graphic_card_gb', 0.649448340054181),\n",
       " ('rating', 'warranty', 4.980983649795264e-09),\n",
       " ('rating', 'Touchscreen', 0.5283795080283953),\n",
       " ('rating', 'msoffice', 2.90214078925919e-07)]"
      ]
     },
     "execution_count": 38,
     "metadata": {},
     "output_type": "execute_result"
    }
   ],
   "source": [
    "## Creating a DataFrame with all categorical variables\n",
    "df_cat = pd.DataFrame(data = data.dtypes, columns = ['a']).reset_index()\n",
    "cat_var = list(df_cat['index'].loc[df_cat['a'] == 'object'])\n",
    "\n",
    "df_cat = data[cat_var]\n",
    "\n",
    "## Let us split this list into two parts\n",
    "cat_var1 = ('brand', 'processor_brand', 'processor_name', 'processor_gnrtn', 'ram_gb', 'ram_type', 'ssd', 'hdd', 'os', 'os_bit', \n",
    "            'graphic_card_gb', 'warranty', 'Touchscreen', 'msoffice', 'rating')\n",
    "\n",
    "cat_var2 = ('brand', 'processor_brand', 'processor_name', 'processor_gnrtn', 'ram_gb', 'ram_type', 'ssd', 'hdd', 'os', 'os_bit', \n",
    "            'graphic_card_gb', 'warranty', 'Touchscreen', 'msoffice', 'rating')\n",
    "\n",
    "## Let us jump to Chi-Square test\n",
    "## Creating all possible combinations between the above two variables list\n",
    "cat_var_prod = list(product(cat_var1,cat_var2, repeat = 1))\n",
    "\n",
    "## Creating an empty variable and picking only the p value from the output of Chi-Square test\n",
    "result = []\n",
    "for i in cat_var_prod:\n",
    "    if i[0] != i[1]:\n",
    "        result.append((i[0],i[1],list(ss.chi2_contingency(pd.crosstab(df_cat[i[0]], df_cat[i[1]])))[1]))\n",
    "result"
   ]
  },
  {
   "cell_type": "code",
   "execution_count": 39,
   "metadata": {},
   "outputs": [
    {
     "data": {
      "text/html": [
       "<div>\n",
       "<style scoped>\n",
       "    .dataframe tbody tr th:only-of-type {\n",
       "        vertical-align: middle;\n",
       "    }\n",
       "\n",
       "    .dataframe tbody tr th {\n",
       "        vertical-align: top;\n",
       "    }\n",
       "\n",
       "    .dataframe thead th {\n",
       "        text-align: right;\n",
       "    }\n",
       "</style>\n",
       "<table border=\"1\" class=\"dataframe\">\n",
       "  <thead>\n",
       "    <tr style=\"text-align: right;\">\n",
       "      <th>Var2</th>\n",
       "      <th>Touchscreen</th>\n",
       "      <th>brand</th>\n",
       "      <th>graphic_card_gb</th>\n",
       "      <th>hdd</th>\n",
       "      <th>msoffice</th>\n",
       "      <th>os</th>\n",
       "      <th>os_bit</th>\n",
       "      <th>processor_brand</th>\n",
       "      <th>processor_gnrtn</th>\n",
       "      <th>processor_name</th>\n",
       "      <th>ram_gb</th>\n",
       "      <th>ram_type</th>\n",
       "      <th>rating</th>\n",
       "      <th>ssd</th>\n",
       "      <th>warranty</th>\n",
       "    </tr>\n",
       "    <tr>\n",
       "      <th>Var1</th>\n",
       "      <th></th>\n",
       "      <th></th>\n",
       "      <th></th>\n",
       "      <th></th>\n",
       "      <th></th>\n",
       "      <th></th>\n",
       "      <th></th>\n",
       "      <th></th>\n",
       "      <th></th>\n",
       "      <th></th>\n",
       "      <th></th>\n",
       "      <th></th>\n",
       "      <th></th>\n",
       "      <th></th>\n",
       "      <th></th>\n",
       "    </tr>\n",
       "  </thead>\n",
       "  <tbody>\n",
       "    <tr>\n",
       "      <th>Touchscreen</th>\n",
       "      <td>NaN</td>\n",
       "      <td>4.298234e-03</td>\n",
       "      <td>5.843310e-02</td>\n",
       "      <td>9.554342e-07</td>\n",
       "      <td>3.354506e-07</td>\n",
       "      <td>4.480575e-02</td>\n",
       "      <td>1.912519e-02</td>\n",
       "      <td>1.861460e-01</td>\n",
       "      <td>1.906570e-03</td>\n",
       "      <td>5.867425e-03</td>\n",
       "      <td>2.995423e-01</td>\n",
       "      <td>1.738201e-21</td>\n",
       "      <td>5.283795e-01</td>\n",
       "      <td>2.286075e-07</td>\n",
       "      <td>2.062224e-10</td>\n",
       "    </tr>\n",
       "    <tr>\n",
       "      <th>brand</th>\n",
       "      <td>4.298234e-03</td>\n",
       "      <td>NaN</td>\n",
       "      <td>1.990824e-14</td>\n",
       "      <td>5.245587e-08</td>\n",
       "      <td>3.164275e-28</td>\n",
       "      <td>2.443635e-175</td>\n",
       "      <td>3.230029e-02</td>\n",
       "      <td>1.027155e-144</td>\n",
       "      <td>9.025263e-47</td>\n",
       "      <td>4.467315e-146</td>\n",
       "      <td>5.963330e-09</td>\n",
       "      <td>2.092807e-09</td>\n",
       "      <td>1.110262e-05</td>\n",
       "      <td>2.821235e-09</td>\n",
       "      <td>2.343429e-38</td>\n",
       "    </tr>\n",
       "    <tr>\n",
       "      <th>graphic_card_gb</th>\n",
       "      <td>5.843310e-02</td>\n",
       "      <td>1.990824e-14</td>\n",
       "      <td>NaN</td>\n",
       "      <td>8.659712e-04</td>\n",
       "      <td>1.067081e-04</td>\n",
       "      <td>2.973293e-07</td>\n",
       "      <td>4.115771e-03</td>\n",
       "      <td>6.758857e-08</td>\n",
       "      <td>2.071475e-15</td>\n",
       "      <td>1.092861e-58</td>\n",
       "      <td>1.452863e-22</td>\n",
       "      <td>1.186653e-04</td>\n",
       "      <td>6.494483e-01</td>\n",
       "      <td>2.878706e-32</td>\n",
       "      <td>4.528691e-02</td>\n",
       "    </tr>\n",
       "    <tr>\n",
       "      <th>hdd</th>\n",
       "      <td>9.554342e-07</td>\n",
       "      <td>5.245587e-08</td>\n",
       "      <td>8.659712e-04</td>\n",
       "      <td>NaN</td>\n",
       "      <td>3.716778e-06</td>\n",
       "      <td>1.414526e-57</td>\n",
       "      <td>1.757806e-30</td>\n",
       "      <td>8.498033e-04</td>\n",
       "      <td>8.816708e-09</td>\n",
       "      <td>3.227585e-53</td>\n",
       "      <td>5.920414e-06</td>\n",
       "      <td>1.912266e-84</td>\n",
       "      <td>1.493465e-01</td>\n",
       "      <td>1.678542e-121</td>\n",
       "      <td>2.680881e-12</td>\n",
       "    </tr>\n",
       "    <tr>\n",
       "      <th>msoffice</th>\n",
       "      <td>3.354506e-07</td>\n",
       "      <td>3.164275e-28</td>\n",
       "      <td>1.067081e-04</td>\n",
       "      <td>3.716778e-06</td>\n",
       "      <td>NaN</td>\n",
       "      <td>5.843738e-06</td>\n",
       "      <td>7.036346e-06</td>\n",
       "      <td>1.200989e-03</td>\n",
       "      <td>1.335693e-04</td>\n",
       "      <td>2.291037e-05</td>\n",
       "      <td>4.862260e-01</td>\n",
       "      <td>5.715985e-03</td>\n",
       "      <td>2.902141e-07</td>\n",
       "      <td>4.256298e-06</td>\n",
       "      <td>4.524239e-47</td>\n",
       "    </tr>\n",
       "    <tr>\n",
       "      <th>os</th>\n",
       "      <td>4.480575e-02</td>\n",
       "      <td>2.443635e-175</td>\n",
       "      <td>2.973293e-07</td>\n",
       "      <td>1.414526e-57</td>\n",
       "      <td>5.843738e-06</td>\n",
       "      <td>NaN</td>\n",
       "      <td>1.862390e-21</td>\n",
       "      <td>2.960341e-151</td>\n",
       "      <td>1.434174e-21</td>\n",
       "      <td>3.021885e-140</td>\n",
       "      <td>4.655309e-07</td>\n",
       "      <td>2.806288e-73</td>\n",
       "      <td>4.535166e-08</td>\n",
       "      <td>1.461492e-13</td>\n",
       "      <td>1.088386e-06</td>\n",
       "    </tr>\n",
       "    <tr>\n",
       "      <th>os_bit</th>\n",
       "      <td>1.912519e-02</td>\n",
       "      <td>3.230029e-02</td>\n",
       "      <td>4.115771e-03</td>\n",
       "      <td>1.757806e-30</td>\n",
       "      <td>7.036346e-06</td>\n",
       "      <td>1.862390e-21</td>\n",
       "      <td>NaN</td>\n",
       "      <td>7.600005e-02</td>\n",
       "      <td>2.929610e-02</td>\n",
       "      <td>1.739020e-04</td>\n",
       "      <td>1.453262e-03</td>\n",
       "      <td>2.440125e-28</td>\n",
       "      <td>8.558824e-03</td>\n",
       "      <td>1.192440e-18</td>\n",
       "      <td>2.831409e-19</td>\n",
       "    </tr>\n",
       "    <tr>\n",
       "      <th>processor_brand</th>\n",
       "      <td>1.861460e-01</td>\n",
       "      <td>1.027155e-144</td>\n",
       "      <td>6.758857e-08</td>\n",
       "      <td>8.498033e-04</td>\n",
       "      <td>1.200989e-03</td>\n",
       "      <td>2.960341e-151</td>\n",
       "      <td>7.600005e-02</td>\n",
       "      <td>NaN</td>\n",
       "      <td>1.353304e-136</td>\n",
       "      <td>0.000000e+00</td>\n",
       "      <td>1.774306e-22</td>\n",
       "      <td>1.026791e-02</td>\n",
       "      <td>2.018788e-03</td>\n",
       "      <td>1.732420e-06</td>\n",
       "      <td>6.711638e-05</td>\n",
       "    </tr>\n",
       "    <tr>\n",
       "      <th>processor_gnrtn</th>\n",
       "      <td>1.906570e-03</td>\n",
       "      <td>9.025263e-47</td>\n",
       "      <td>2.071475e-15</td>\n",
       "      <td>8.816708e-09</td>\n",
       "      <td>1.335693e-04</td>\n",
       "      <td>1.434174e-21</td>\n",
       "      <td>2.929610e-02</td>\n",
       "      <td>1.353304e-136</td>\n",
       "      <td>NaN</td>\n",
       "      <td>7.819798e-154</td>\n",
       "      <td>8.603250e-31</td>\n",
       "      <td>9.452683e-65</td>\n",
       "      <td>4.451746e-01</td>\n",
       "      <td>1.810785e-11</td>\n",
       "      <td>3.020336e-03</td>\n",
       "    </tr>\n",
       "    <tr>\n",
       "      <th>processor_name</th>\n",
       "      <td>5.867425e-03</td>\n",
       "      <td>4.467315e-146</td>\n",
       "      <td>1.092861e-58</td>\n",
       "      <td>3.227585e-53</td>\n",
       "      <td>2.291037e-05</td>\n",
       "      <td>3.021885e-140</td>\n",
       "      <td>1.739020e-04</td>\n",
       "      <td>0.000000e+00</td>\n",
       "      <td>7.819798e-154</td>\n",
       "      <td>NaN</td>\n",
       "      <td>1.610543e-149</td>\n",
       "      <td>3.118643e-25</td>\n",
       "      <td>1.023345e-04</td>\n",
       "      <td>5.835965e-118</td>\n",
       "      <td>1.937238e-07</td>\n",
       "    </tr>\n",
       "    <tr>\n",
       "      <th>ram_gb</th>\n",
       "      <td>2.995423e-01</td>\n",
       "      <td>5.963330e-09</td>\n",
       "      <td>1.452863e-22</td>\n",
       "      <td>5.920414e-06</td>\n",
       "      <td>4.862260e-01</td>\n",
       "      <td>4.655309e-07</td>\n",
       "      <td>1.453262e-03</td>\n",
       "      <td>1.774306e-22</td>\n",
       "      <td>8.603250e-31</td>\n",
       "      <td>1.610543e-149</td>\n",
       "      <td>NaN</td>\n",
       "      <td>1.317633e-02</td>\n",
       "      <td>7.406716e-08</td>\n",
       "      <td>2.854208e-36</td>\n",
       "      <td>4.960181e-01</td>\n",
       "    </tr>\n",
       "    <tr>\n",
       "      <th>ram_type</th>\n",
       "      <td>1.738201e-21</td>\n",
       "      <td>2.092807e-09</td>\n",
       "      <td>1.186653e-04</td>\n",
       "      <td>1.912266e-84</td>\n",
       "      <td>5.715985e-03</td>\n",
       "      <td>2.806288e-73</td>\n",
       "      <td>2.440125e-28</td>\n",
       "      <td>1.026791e-02</td>\n",
       "      <td>9.452683e-65</td>\n",
       "      <td>3.118643e-25</td>\n",
       "      <td>1.317633e-02</td>\n",
       "      <td>NaN</td>\n",
       "      <td>6.948113e-13</td>\n",
       "      <td>5.614574e-33</td>\n",
       "      <td>3.365373e-05</td>\n",
       "    </tr>\n",
       "    <tr>\n",
       "      <th>rating</th>\n",
       "      <td>5.283795e-01</td>\n",
       "      <td>1.110262e-05</td>\n",
       "      <td>6.494483e-01</td>\n",
       "      <td>1.493465e-01</td>\n",
       "      <td>2.902141e-07</td>\n",
       "      <td>4.535166e-08</td>\n",
       "      <td>8.558824e-03</td>\n",
       "      <td>2.018788e-03</td>\n",
       "      <td>4.451746e-01</td>\n",
       "      <td>1.023345e-04</td>\n",
       "      <td>7.406716e-08</td>\n",
       "      <td>6.948113e-13</td>\n",
       "      <td>NaN</td>\n",
       "      <td>1.481351e-09</td>\n",
       "      <td>4.980984e-09</td>\n",
       "    </tr>\n",
       "    <tr>\n",
       "      <th>ssd</th>\n",
       "      <td>2.286075e-07</td>\n",
       "      <td>2.821235e-09</td>\n",
       "      <td>2.878706e-32</td>\n",
       "      <td>1.678542e-121</td>\n",
       "      <td>4.256298e-06</td>\n",
       "      <td>1.461492e-13</td>\n",
       "      <td>1.192440e-18</td>\n",
       "      <td>1.732420e-06</td>\n",
       "      <td>1.810785e-11</td>\n",
       "      <td>5.835965e-118</td>\n",
       "      <td>2.854208e-36</td>\n",
       "      <td>5.614574e-33</td>\n",
       "      <td>1.481351e-09</td>\n",
       "      <td>NaN</td>\n",
       "      <td>1.180926e-06</td>\n",
       "    </tr>\n",
       "    <tr>\n",
       "      <th>warranty</th>\n",
       "      <td>2.062224e-10</td>\n",
       "      <td>2.343429e-38</td>\n",
       "      <td>4.528691e-02</td>\n",
       "      <td>2.680881e-12</td>\n",
       "      <td>4.524239e-47</td>\n",
       "      <td>1.088386e-06</td>\n",
       "      <td>2.831409e-19</td>\n",
       "      <td>6.711638e-05</td>\n",
       "      <td>3.020336e-03</td>\n",
       "      <td>1.937238e-07</td>\n",
       "      <td>4.960181e-01</td>\n",
       "      <td>3.365373e-05</td>\n",
       "      <td>4.980984e-09</td>\n",
       "      <td>1.180926e-06</td>\n",
       "      <td>NaN</td>\n",
       "    </tr>\n",
       "  </tbody>\n",
       "</table>\n",
       "</div>"
      ],
      "text/plain": [
       "Var2              Touchscreen          brand  graphic_card_gb            hdd  \\\n",
       "Var1                                                                           \n",
       "Touchscreen               NaN   4.298234e-03     5.843310e-02   9.554342e-07   \n",
       "brand            4.298234e-03            NaN     1.990824e-14   5.245587e-08   \n",
       "graphic_card_gb  5.843310e-02   1.990824e-14              NaN   8.659712e-04   \n",
       "hdd              9.554342e-07   5.245587e-08     8.659712e-04            NaN   \n",
       "msoffice         3.354506e-07   3.164275e-28     1.067081e-04   3.716778e-06   \n",
       "os               4.480575e-02  2.443635e-175     2.973293e-07   1.414526e-57   \n",
       "os_bit           1.912519e-02   3.230029e-02     4.115771e-03   1.757806e-30   \n",
       "processor_brand  1.861460e-01  1.027155e-144     6.758857e-08   8.498033e-04   \n",
       "processor_gnrtn  1.906570e-03   9.025263e-47     2.071475e-15   8.816708e-09   \n",
       "processor_name   5.867425e-03  4.467315e-146     1.092861e-58   3.227585e-53   \n",
       "ram_gb           2.995423e-01   5.963330e-09     1.452863e-22   5.920414e-06   \n",
       "ram_type         1.738201e-21   2.092807e-09     1.186653e-04   1.912266e-84   \n",
       "rating           5.283795e-01   1.110262e-05     6.494483e-01   1.493465e-01   \n",
       "ssd              2.286075e-07   2.821235e-09     2.878706e-32  1.678542e-121   \n",
       "warranty         2.062224e-10   2.343429e-38     4.528691e-02   2.680881e-12   \n",
       "\n",
       "Var2                 msoffice             os        os_bit  processor_brand  \\\n",
       "Var1                                                                          \n",
       "Touchscreen      3.354506e-07   4.480575e-02  1.912519e-02     1.861460e-01   \n",
       "brand            3.164275e-28  2.443635e-175  3.230029e-02    1.027155e-144   \n",
       "graphic_card_gb  1.067081e-04   2.973293e-07  4.115771e-03     6.758857e-08   \n",
       "hdd              3.716778e-06   1.414526e-57  1.757806e-30     8.498033e-04   \n",
       "msoffice                  NaN   5.843738e-06  7.036346e-06     1.200989e-03   \n",
       "os               5.843738e-06            NaN  1.862390e-21    2.960341e-151   \n",
       "os_bit           7.036346e-06   1.862390e-21           NaN     7.600005e-02   \n",
       "processor_brand  1.200989e-03  2.960341e-151  7.600005e-02              NaN   \n",
       "processor_gnrtn  1.335693e-04   1.434174e-21  2.929610e-02    1.353304e-136   \n",
       "processor_name   2.291037e-05  3.021885e-140  1.739020e-04     0.000000e+00   \n",
       "ram_gb           4.862260e-01   4.655309e-07  1.453262e-03     1.774306e-22   \n",
       "ram_type         5.715985e-03   2.806288e-73  2.440125e-28     1.026791e-02   \n",
       "rating           2.902141e-07   4.535166e-08  8.558824e-03     2.018788e-03   \n",
       "ssd              4.256298e-06   1.461492e-13  1.192440e-18     1.732420e-06   \n",
       "warranty         4.524239e-47   1.088386e-06  2.831409e-19     6.711638e-05   \n",
       "\n",
       "Var2             processor_gnrtn  processor_name         ram_gb      ram_type  \\\n",
       "Var1                                                                            \n",
       "Touchscreen         1.906570e-03    5.867425e-03   2.995423e-01  1.738201e-21   \n",
       "brand               9.025263e-47   4.467315e-146   5.963330e-09  2.092807e-09   \n",
       "graphic_card_gb     2.071475e-15    1.092861e-58   1.452863e-22  1.186653e-04   \n",
       "hdd                 8.816708e-09    3.227585e-53   5.920414e-06  1.912266e-84   \n",
       "msoffice            1.335693e-04    2.291037e-05   4.862260e-01  5.715985e-03   \n",
       "os                  1.434174e-21   3.021885e-140   4.655309e-07  2.806288e-73   \n",
       "os_bit              2.929610e-02    1.739020e-04   1.453262e-03  2.440125e-28   \n",
       "processor_brand    1.353304e-136    0.000000e+00   1.774306e-22  1.026791e-02   \n",
       "processor_gnrtn              NaN   7.819798e-154   8.603250e-31  9.452683e-65   \n",
       "processor_name     7.819798e-154             NaN  1.610543e-149  3.118643e-25   \n",
       "ram_gb              8.603250e-31   1.610543e-149            NaN  1.317633e-02   \n",
       "ram_type            9.452683e-65    3.118643e-25   1.317633e-02           NaN   \n",
       "rating              4.451746e-01    1.023345e-04   7.406716e-08  6.948113e-13   \n",
       "ssd                 1.810785e-11   5.835965e-118   2.854208e-36  5.614574e-33   \n",
       "warranty            3.020336e-03    1.937238e-07   4.960181e-01  3.365373e-05   \n",
       "\n",
       "Var2                   rating            ssd      warranty  \n",
       "Var1                                                        \n",
       "Touchscreen      5.283795e-01   2.286075e-07  2.062224e-10  \n",
       "brand            1.110262e-05   2.821235e-09  2.343429e-38  \n",
       "graphic_card_gb  6.494483e-01   2.878706e-32  4.528691e-02  \n",
       "hdd              1.493465e-01  1.678542e-121  2.680881e-12  \n",
       "msoffice         2.902141e-07   4.256298e-06  4.524239e-47  \n",
       "os               4.535166e-08   1.461492e-13  1.088386e-06  \n",
       "os_bit           8.558824e-03   1.192440e-18  2.831409e-19  \n",
       "processor_brand  2.018788e-03   1.732420e-06  6.711638e-05  \n",
       "processor_gnrtn  4.451746e-01   1.810785e-11  3.020336e-03  \n",
       "processor_name   1.023345e-04  5.835965e-118  1.937238e-07  \n",
       "ram_gb           7.406716e-08   2.854208e-36  4.960181e-01  \n",
       "ram_type         6.948113e-13   5.614574e-33  3.365373e-05  \n",
       "rating                    NaN   1.481351e-09  4.980984e-09  \n",
       "ssd              1.481351e-09            NaN  1.180926e-06  \n",
       "warranty         4.980984e-09   1.180926e-06           NaN  "
      ]
     },
     "execution_count": 39,
     "metadata": {},
     "output_type": "execute_result"
    }
   ],
   "source": [
    "chi_test_output = pd.DataFrame(result, columns = ['Var1', 'Var2', 'Coeff'])\n",
    "## Using pivot function to convert the above DataFrame into a crosstab\n",
    "chi_test_output.pivot(index='Var1', columns='Var2', values='Coeff')"
   ]
  },
  {
   "cell_type": "code",
   "execution_count": 40,
   "metadata": {},
   "outputs": [
    {
     "data": {
      "image/png": "[encoded data removed]",
      "text/plain": [
       "<Figure size 720x360 with 1 Axes>"
      ]
     },
     "metadata": {
      "needs_background": "light"
     },
     "output_type": "display_data"
    }
   ],
   "source": [
    "# Histograma del precio\n",
    "chart = data[\"Price\"].hist(figsize=(10, 5))\n",
    "chart.set_title(\"Histograma de precios de los computadores\")\n",
    "chart.set_xlabel(\"Precio [Rupias]\")\n",
    "chart.set_ylabel(\"Cantidad\")\n",
    "plt.show()"
   ]
  },
  {
   "cell_type": "code",
   "execution_count": 41,
   "metadata": {},
   "outputs": [
    {
     "data": {
      "image/png": "[encoded data removed]",
      "text/plain": [
       "<Figure size 720x360 with 1 Axes>"
      ]
     },
     "metadata": {
      "needs_background": "light"
     },
     "output_type": "display_data"
    }
   ],
   "source": [
    "# Numero de ratings y numero de reviews\n",
    "plt.figure(figsize=(10, 5))\n",
    "chart = sns.scatterplot(data=data, x=\"Number of Ratings\", y=\"Number of Reviews\")\n",
    "chart.set_title(\"Relación entre ratings y reviews\")\n",
    "chart.set_xlabel(\"Cantidad de ratings\")\n",
    "chart.set_ylabel(\"Cantidad de reviews\")\n",
    "plt.show()"
   ]
  },
  {
   "cell_type": "code",
   "execution_count": 42,
   "metadata": {},
   "outputs": [
    {
     "data": {
      "application/vnd.plotly.v1+json": {
       "config": {
        "plotlyServerURL": "https://plot.ly"
       },
       "data": [
        {
         "alignmentgroup": "True",
         "bingroup": "x",
         "hovertemplate": "brand=ASUS<br>Precio=%{x}<br>count=%{y}<extra></extra>",
         "legendgroup": "ASUS",
         "marker": {
          "color": "#636efa",
          "opacity": 0.5,
          "pattern": {
           "shape": ""
          }
         },
         "name": "ASUS",
         "offsetgroup": "ASUS",
         "orientation": "v",
         "showlegend": true,
         "type": "histogram",
         "x": [
          34649,
          69990,
          26990,
          22990,
          21990,
          58799,
          22990,
          35990,
          29890,
          23990,
          34429,
          35990,
          33980,
          37990,
          37890,
          45990,
          36990,
          45990,
          38490,
          35990,
          39990,
          41990,
          39990,
          48490,
          36990,
          48990,
          23490,
          37990,
          35990,
          42990,
          51990,
          48990,
          42990,
          39990,
          41990,
          44990,
          42990,
          44990,
          51649,
          40990,
          42990,
          44890,
          41490,
          40990,
          32890,
          35990,
          34990,
          38900,
          35590,
          38990,
          33990,
          24990,
          38000,
          41500,
          21490,
          32990,
          38680,
          23990,
          33990,
          20490,
          41890,
          40990,
          18990,
          17990,
          106167,
          48990,
          49800,
          57990,
          63990,
          71990,
          47990,
          72990,
          89990,
          65990,
          65990,
          73490,
          59990,
          82990,
          49990,
          54990,
          47990,
          63990,
          59990,
          59990,
          74990,
          58990,
          59990,
          84990,
          105990,
          84990,
          72990,
          79990,
          53400,
          64990,
          72990,
          57990,
          73990,
          99990,
          53690,
          53190,
          84990,
          99990,
          84990,
          84990,
          88990,
          114990,
          99990,
          85990,
          86990,
          105990,
          84990,
          132790,
          76990,
          84990,
          75990,
          75990,
          77990,
          77990,
          82990,
          87990,
          84500,
          46990,
          56990,
          81990,
          61249,
          83990,
          50990,
          55990,
          52990,
          64990,
          60190,
          54490,
          64990,
          58990,
          49990,
          58990,
          64990,
          68900,
          57990,
          61990,
          77990,
          94990,
          94990,
          78990,
          85990,
          109990,
          99990,
          94990,
          81990,
          104990,
          134990,
          98990,
          99990,
          194990,
          124990,
          224990,
          234990,
          119990,
          120980,
          157249,
          131500,
          154990,
          165990,
          167990,
          233990,
          93990,
          66990,
          82500,
          98912,
          299990,
          269990,
          139990,
          441990,
          146490,
          45990,
          58100,
          62990,
          33990,
          32990,
          27990,
          25990,
          25990,
          30780,
          35990,
          33690,
          37990,
          34500,
          62450,
          58990,
          56990,
          49890,
          58990,
          91990,
          49990,
          80990,
          78000,
          54990,
          54990,
          54990,
          62990,
          75100,
          76990,
          79990,
          71990,
          71990,
          79990,
          82990,
          106990,
          92990,
          56990,
          63990,
          72400,
          111990,
          79990,
          72990,
          112990,
          114990,
          95990,
          76990,
          99990,
          112990,
          76000,
          99990,
          111000,
          84970,
          135990,
          154990,
          199990,
          114990,
          129990,
          114990,
          104990,
          114990,
          124990,
          134990,
          129990,
          142990,
          121990,
          124990,
          141990,
          162990,
          130500,
          116990,
          138990,
          234990,
          135990,
          144990,
          149990,
          142990
         ],
         "xaxis": "x",
         "yaxis": "y"
        },
        {
         "alignmentgroup": "True",
         "bingroup": "x",
         "hovertemplate": "brand=Lenovo<br>Precio=%{x}<br>count=%{y}<extra></extra>",
         "legendgroup": "Lenovo",
         "marker": {
          "color": "#EF553B",
          "opacity": 0.5,
          "pattern": {
           "shape": ""
          }
         },
         "name": "Lenovo",
         "offsetgroup": "Lenovo",
         "orientation": "v",
         "showlegend": true,
         "type": "histogram",
         "x": [
          38999,
          39999,
          49999,
          31999,
          31799,
          37990,
          38990,
          37990,
          39990,
          53990,
          38940,
          39999,
          41990,
          38990,
          44990,
          36490,
          38970,
          40200,
          40990,
          41998,
          39999,
          39998,
          41990,
          40990,
          43990,
          38990,
          54990,
          42990,
          57999,
          35990,
          38990,
          36990,
          38999,
          29999,
          25990,
          16990,
          24990,
          46990,
          49490,
          61999,
          52990,
          62300,
          52990,
          51990,
          61990,
          65990,
          49990,
          48490,
          64990,
          59990,
          53990,
          55990,
          64990,
          66490,
          70990,
          57500,
          64990,
          54990,
          59990,
          59990,
          87990,
          68990,
          77990,
          69990,
          147000,
          55990,
          70990,
          64990,
          70798,
          59990,
          62998,
          113590,
          67990,
          65990,
          58999,
          89998,
          69899,
          55999,
          82990,
          59999,
          91999,
          60990,
          86999,
          74990,
          84086,
          64990,
          155411,
          125394,
          57999,
          52490,
          56990,
          59990,
          60990,
          65990,
          74590,
          74999,
          68990,
          85990,
          99990,
          79990,
          84990,
          88488,
          174527,
          162299,
          244801,
          86000,
          162399,
          211753,
          110999,
          122990,
          151098,
          102990,
          229900,
          119990,
          85990,
          234990,
          265998,
          34990,
          56990,
          48990,
          52990,
          59490,
          69990,
          74798,
          77990,
          76498,
          59900,
          81978,
          68500,
          63990,
          99990,
          81490,
          60990,
          84988,
          63990,
          78990,
          78988,
          73138,
          106990,
          73400,
          130990,
          77988,
          80490,
          57490
         ],
         "xaxis": "x",
         "yaxis": "y"
        },
        {
         "alignmentgroup": "True",
         "bingroup": "x",
         "hovertemplate": "brand=acer<br>Precio=%{x}<br>count=%{y}<extra></extra>",
         "legendgroup": "acer",
         "marker": {
          "color": "#00cc96",
          "opacity": 0.5,
          "pattern": {
           "shape": ""
          }
         },
         "name": "acer",
         "offsetgroup": "acer",
         "orientation": "v",
         "showlegend": true,
         "type": "histogram",
         "x": [
          59990,
          93700,
          72990,
          38990,
          23990,
          36999,
          40990,
          50990,
          119990,
          94190,
          86867,
          81998,
          59490,
          52990,
          55999,
          60990,
          57990,
          99500,
          64990,
          109999,
          49990,
          46990,
          59999,
          61990,
          61597,
          72964,
          56491,
          57990,
          56990,
          55490,
          62490,
          129990,
          159990,
          119990,
          92990,
          119990,
          169990,
          139990,
          30990,
          36990,
          34990,
          53990,
          43990,
          44990,
          49990,
          49990,
          75999,
          59990,
          99990,
          89990,
          81990
         ],
         "xaxis": "x",
         "yaxis": "y"
        },
        {
         "alignmentgroup": "True",
         "bingroup": "x",
         "hovertemplate": "brand=Avita<br>Precio=%{x}<br>count=%{y}<extra></extra>",
         "legendgroup": "Avita",
         "marker": {
          "color": "#ab63fa",
          "opacity": 0.5,
          "pattern": {
           "shape": ""
          }
         },
         "name": "Avita",
         "offsetgroup": "Avita",
         "orientation": "v",
         "showlegend": true,
         "type": "histogram",
         "x": [
          17490,
          65556,
          65556,
          65556,
          44990,
          73063,
          73063,
          73990,
          73990,
          73990,
          73990,
          73990,
          73990,
          62990
         ],
         "xaxis": "x",
         "yaxis": "y"
        },
        {
         "alignmentgroup": "True",
         "bingroup": "x",
         "hovertemplate": "brand=HP<br>Precio=%{x}<br>count=%{y}<extra></extra>",
         "legendgroup": "HP",
         "marker": {
          "color": "#FFA15A",
          "opacity": 0.5,
          "pattern": {
           "shape": ""
          }
         },
         "name": "HP",
         "offsetgroup": "HP",
         "orientation": "v",
         "showlegend": true,
         "type": "histogram",
         "x": [
          56490,
          65390,
          32490,
          32955,
          46200,
          39990,
          53990,
          44900,
          42490,
          44376,
          54238,
          42990,
          42990,
          42490,
          43970,
          54990,
          41250,
          44990,
          45650,
          45490,
          38799,
          69267,
          47990,
          50990,
          48900,
          55490,
          43690,
          39990,
          41990,
          39790,
          36490,
          40750,
          49279,
          26470,
          27990,
          55990,
          102551,
          76012,
          136590,
          54990,
          53990,
          67990,
          55999,
          74490,
          58340,
          97990,
          66999,
          59999,
          63990,
          63990,
          72500,
          57990,
          77990,
          106490,
          111999,
          55990,
          76990,
          114990,
          61000,
          82000,
          126000,
          114999,
          129999,
          94000,
          78000,
          100990,
          64990,
          46790,
          44599,
          48790,
          71990,
          93190,
          102990,
          104000,
          90190,
          239759,
          92000,
          162990,
          99999,
          119599,
          144690,
          179990,
          121990,
          116990,
          149999,
          171990,
          128500,
          165000,
          94990,
          136990,
          116941,
          32990,
          37990,
          43490,
          41490,
          44490,
          39490,
          32917,
          41999,
          57990,
          49970,
          48990,
          59990,
          58990,
          67500,
          48990,
          57999,
          72990,
          65990,
          98020,
          63990,
          73999,
          68100,
          55090,
          84208,
          53490,
          52380,
          52500,
          54590,
          51890,
          59999,
          64990,
          59990,
          80000,
          52990,
          90990,
          57999,
          109000,
          68500,
          79990,
          84990,
          92990,
          84190,
          159990,
          75990,
          141990
         ],
         "xaxis": "x",
         "yaxis": "y"
        },
        {
         "alignmentgroup": "True",
         "bingroup": "x",
         "hovertemplate": "brand=DELL<br>Precio=%{x}<br>count=%{y}<extra></extra>",
         "legendgroup": "DELL",
         "marker": {
          "color": "#19d3f3",
          "opacity": 0.5,
          "pattern": {
           "shape": ""
          }
         },
         "name": "DELL",
         "offsetgroup": "DELL",
         "orientation": "v",
         "showlegend": true,
         "type": "histogram",
         "x": [
          39490,
          41990,
          42490,
          36990,
          39490,
          42990,
          49990,
          41490,
          41990,
          44427,
          42490,
          71999,
          43900,
          46690,
          39990,
          48500,
          45990,
          60790,
          41990,
          45490,
          41790,
          45930,
          42490,
          42190,
          39490,
          43800,
          39990,
          40890,
          43970,
          43400,
          43000,
          37990,
          42900,
          41480,
          40390,
          41490,
          45490,
          44490,
          42990,
          48990,
          43590,
          44690,
          43990,
          43590,
          41390,
          44290,
          48999,
          39990,
          46390,
          68090,
          139990,
          55990,
          71990,
          71890,
          67990,
          64190,
          70090,
          79990,
          69490,
          89390,
          89702,
          79990,
          61290,
          69490,
          55490,
          59990,
          111890,
          65990,
          71090,
          66490,
          74500,
          114990,
          61990,
          77990,
          65990,
          88990,
          70799,
          71990,
          79990,
          76300,
          72900,
          73990,
          73519,
          82990,
          79990,
          71290,
          79500,
          82990,
          70980,
          82990,
          78900,
          70190,
          79590,
          74190,
          48990,
          58090,
          58990,
          57990,
          62490,
          55790,
          54990,
          69900,
          58990,
          66490,
          77900,
          67490,
          61990,
          58990,
          71695,
          62317,
          87990,
          99990,
          121890,
          135300,
          109190,
          99990,
          122410,
          93955,
          36000,
          35990,
          39490,
          36990,
          39990,
          40590,
          40590,
          42090,
          35990,
          37390,
          52632,
          39990,
          43990,
          39990,
          41990,
          44490,
          41990,
          44490,
          44390,
          47490,
          59490,
          49990,
          59490,
          60990,
          76190,
          98920,
          75500,
          57900,
          49490,
          51990,
          93990,
          89990,
          89570
         ],
         "xaxis": "x",
         "yaxis": "y"
        },
        {
         "alignmentgroup": "True",
         "bingroup": "x",
         "hovertemplate": "brand=MSI<br>Precio=%{x}<br>count=%{y}<extra></extra>",
         "legendgroup": "MSI",
         "marker": {
          "color": "#FF6692",
          "opacity": 0.5,
          "pattern": {
           "shape": ""
          }
         },
         "name": "MSI",
         "offsetgroup": "MSI",
         "orientation": "v",
         "showlegend": true,
         "type": "histogram",
         "x": [
          38990,
          48990,
          40990,
          76990,
          59990,
          55490,
          56541,
          79990,
          74990,
          55490,
          74990,
          56490,
          54990,
          55990,
          149990,
          79990,
          52990,
          291190,
          145990,
          179990,
          207290,
          79990,
          57990,
          76990,
          109990,
          86990,
          89990,
          94990,
          64990,
          104990,
          66990,
          84990,
          119990,
          154990,
          279990,
          129990,
          139990,
          63990,
          159990,
          192990,
          86990,
          109990,
          109590,
          49990,
          47990,
          64990,
          54990,
          64990,
          99990,
          146990
         ],
         "xaxis": "x",
         "yaxis": "y"
        },
        {
         "alignmentgroup": "True",
         "bingroup": "x",
         "hovertemplate": "brand=APPLE<br>Precio=%{x}<br>count=%{y}<extra></extra>",
         "legendgroup": "APPLE",
         "marker": {
          "color": "#B6E880",
          "opacity": 0.5,
          "pattern": {
           "shape": ""
          }
         },
         "name": "APPLE",
         "offsetgroup": "APPLE",
         "orientation": "v",
         "showlegend": true,
         "type": "histogram",
         "x": [
          159990,
          172090,
          179990,
          179990,
          85990,
          112990,
          104990,
          112990,
          132990,
          104990,
          85990,
          149990,
          125990,
          103990,
          101990,
          104990,
          131990,
          128990,
          184990,
          225990,
          124990,
          104990,
          149990,
          169990,
          225990,
          243990,
          309990,
          225990
         ],
         "xaxis": "x",
         "yaxis": "y"
        }
       ],
       "layout": {
        "barmode": "overlay",
        "legend": {
         "title": {
          "text": "brand"
         },
         "tracegroupgap": 0
        },
        "template": {
         "data": {
          "bar": [
           {
            "error_x": {
             "color": "#2a3f5f"
            },
            "error_y": {
             "color": "#2a3f5f"
            },
            "marker": {
             "line": {
              "color": "#E5ECF6",
              "width": 0.5
             },
             "pattern": {
              "fillmode": "overlay",
              "size": 10,
              "solidity": 0.2
             }
            },
            "type": "bar"
           }
          ],
          "barpolar": [
           {
            "marker": {
             "line": {
              "color": "#E5ECF6",
              "width": 0.5
             },
             "pattern": {
              "fillmode": "overlay",
              "size": 10,
              "solidity": 0.2
             }
            },
            "type": "barpolar"
           }
          ],
          "carpet": [
           {
            "aaxis": {
             "endlinecolor": "#2a3f5f",
             "gridcolor": "white",
             "linecolor": "white",
             "minorgridcolor": "white",
             "startlinecolor": "#2a3f5f"
            },
            "baxis": {
             "endlinecolor": "#2a3f5f",
             "gridcolor": "white",
             "linecolor": "white",
             "minorgridcolor": "white",
             "startlinecolor": "#2a3f5f"
            },
            "type": "carpet"
           }
          ],
          "choropleth": [
           {
            "colorbar": {
             "outlinewidth": 0,
             "ticks": ""
            },
            "type": "choropleth"
           }
          ],
          "contour": [
           {
            "colorbar": {
             "outlinewidth": 0,
             "ticks": ""
            },
            "colorscale": [
             [
              0,
              "#0d0887"
             ],
             [
              0.1111111111111111,
              "#46039f"
             ],
             [
              0.2222222222222222,
              "#7201a8"
             ],
             [
              0.3333333333333333,
              "#9c179e"
             ],
             [
              0.4444444444444444,
              "#bd3786"
             ],
             [
              0.5555555555555556,
              "#d8576b"
             ],
             [
              0.6666666666666666,
              "#ed7953"
             ],
             [
              0.7777777777777778,
              "#fb9f3a"
             ],
             [
              0.8888888888888888,
              "#fdca26"
             ],
             [
              1,
              "#f0f921"
             ]
            ],
            "type": "contour"
           }
          ],
          "contourcarpet": [
           {
            "colorbar": {
             "outlinewidth": 0,
             "ticks": ""
            },
            "type": "contourcarpet"
           }
          ],
          "heatmap": [
           {
            "colorbar": {
             "outlinewidth": 0,
             "ticks": ""
            },
            "colorscale": [
             [
              0,
              "#0d0887"
             ],
             [
              0.1111111111111111,
              "#46039f"
             ],
             [
              0.2222222222222222,
              "#7201a8"
             ],
             [
              0.3333333333333333,
              "#9c179e"
             ],
             [
              0.4444444444444444,
              "#bd3786"
             ],
             [
              0.5555555555555556,
              "#d8576b"
             ],
             [
              0.6666666666666666,
              "#ed7953"
             ],
             [
              0.7777777777777778,
              "#fb9f3a"
             ],
             [
              0.8888888888888888,
              "#fdca26"
             ],
             [
              1,
              "#f0f921"
             ]
            ],
            "type": "heatmap"
           }
          ],
          "heatmapgl": [
           {
            "colorbar": {
             "outlinewidth": 0,
             "ticks": ""
            },
            "colorscale": [
             [
              0,
              "#0d0887"
             ],
             [
              0.1111111111111111,
              "#46039f"
             ],
             [
              0.2222222222222222,
              "#7201a8"
             ],
             [
              0.3333333333333333,
              "#9c179e"
             ],
             [
              0.4444444444444444,
              "#bd3786"
             ],
             [
              0.5555555555555556,
              "#d8576b"
             ],
             [
              0.6666666666666666,
              "#ed7953"
             ],
             [
              0.7777777777777778,
              "#fb9f3a"
             ],
             [
              0.8888888888888888,
              "#fdca26"
             ],
             [
              1,
              "#f0f921"
             ]
            ],
            "type": "heatmapgl"
           }
          ],
          "histogram": [
           {
            "marker": {
             "pattern": {
              "fillmode": "overlay",
              "size": 10,
              "solidity": 0.2
             }
            },
            "type": "histogram"
           }
          ],
          "histogram2d": [
           {
            "colorbar": {
             "outlinewidth": 0,
             "ticks": ""
            },
            "colorscale": [
             [
              0,
              "#0d0887"
             ],
             [
              0.1111111111111111,
              "#46039f"
             ],
             [
              0.2222222222222222,
              "#7201a8"
             ],
             [
              0.3333333333333333,
              "#9c179e"
             ],
             [
              0.4444444444444444,
              "#bd3786"
             ],
             [
              0.5555555555555556,
              "#d8576b"
             ],
             [
              0.6666666666666666,
              "#ed7953"
             ],
             [
              0.7777777777777778,
              "#fb9f3a"
             ],
             [
              0.8888888888888888,
              "#fdca26"
             ],
             [
              1,
              "#f0f921"
             ]
            ],
            "type": "histogram2d"
           }
          ],
          "histogram2dcontour": [
           {
            "colorbar": {
             "outlinewidth": 0,
             "ticks": ""
            },
            "colorscale": [
             [
              0,
              "#0d0887"
             ],
             [
              0.1111111111111111,
              "#46039f"
             ],
             [
              0.2222222222222222,
              "#7201a8"
             ],
             [
              0.3333333333333333,
              "#9c179e"
             ],
             [
              0.4444444444444444,
              "#bd3786"
             ],
             [
              0.5555555555555556,
              "#d8576b"
             ],
             [
              0.6666666666666666,
              "#ed7953"
             ],
             [
              0.7777777777777778,
              "#fb9f3a"
             ],
             [
              0.8888888888888888,
              "#fdca26"
             ],
             [
              1,
              "#f0f921"
             ]
            ],
            "type": "histogram2dcontour"
           }
          ],
          "mesh3d": [
           {
            "colorbar": {
             "outlinewidth": 0,
             "ticks": ""
            },
            "type": "mesh3d"
           }
          ],
          "parcoords": [
           {
            "line": {
             "colorbar": {
              "outlinewidth": 0,
              "ticks": ""
             }
            },
            "type": "parcoords"
           }
          ],
          "pie": [
           {
            "automargin": true,
            "type": "pie"
           }
          ],
          "scatter": [
           {
            "fillpattern": {
             "fillmode": "overlay",
             "size": 10,
             "solidity": 0.2
            },
            "type": "scatter"
           }
          ],
          "scatter3d": [
           {
            "line": {
             "colorbar": {
              "outlinewidth": 0,
              "ticks": ""
             }
            },
            "marker": {
             "colorbar": {
              "outlinewidth": 0,
              "ticks": ""
             }
            },
            "type": "scatter3d"
           }
          ],
          "scattercarpet": [
           {
            "marker": {
             "colorbar": {
              "outlinewidth": 0,
              "ticks": ""
             }
            },
            "type": "scattercarpet"
           }
          ],
          "scattergeo": [
           {
            "marker": {
             "colorbar": {
              "outlinewidth": 0,
              "ticks": ""
             }
            },
            "type": "scattergeo"
           }
          ],
          "scattergl": [
           {
            "marker": {
             "colorbar": {
              "outlinewidth": 0,
              "ticks": ""
             }
            },
            "type": "scattergl"
           }
          ],
          "scattermapbox": [
           {
            "marker": {
             "colorbar": {
              "outlinewidth": 0,
              "ticks": ""
             }
            },
            "type": "scattermapbox"
           }
          ],
          "scatterpolar": [
           {
            "marker": {
             "colorbar": {
              "outlinewidth": 0,
              "ticks": ""
             }
            },
            "type": "scatterpolar"
           }
          ],
          "scatterpolargl": [
           {
            "marker": {
             "colorbar": {
              "outlinewidth": 0,
              "ticks": ""
             }
            },
            "type": "scatterpolargl"
           }
          ],
          "scatterternary": [
           {
            "marker": {
             "colorbar": {
              "outlinewidth": 0,
              "ticks": ""
             }
            },
            "type": "scatterternary"
           }
          ],
          "surface": [
           {
            "colorbar": {
             "outlinewidth": 0,
             "ticks": ""
            },
            "colorscale": [
             [
              0,
              "#0d0887"
             ],
             [
              0.1111111111111111,
              "#46039f"
             ],
             [
              0.2222222222222222,
              "#7201a8"
             ],
             [
              0.3333333333333333,
              "#9c179e"
             ],
             [
              0.4444444444444444,
              "#bd3786"
             ],
             [
              0.5555555555555556,
              "#d8576b"
             ],
             [
              0.6666666666666666,
              "#ed7953"
             ],
             [
              0.7777777777777778,
              "#fb9f3a"
             ],
             [
              0.8888888888888888,
              "#fdca26"
             ],
             [
              1,
              "#f0f921"
             ]
            ],
            "type": "surface"
           }
          ],
          "table": [
           {
            "cells": {
             "fill": {
              "color": "#EBF0F8"
             },
             "line": {
              "color": "white"
             }
            },
            "header": {
             "fill": {
              "color": "#C8D4E3"
             },
             "line": {
              "color": "white"
             }
            },
            "type": "table"
           }
          ]
         },
         "layout": {
          "annotationdefaults": {
           "arrowcolor": "#2a3f5f",
           "arrowhead": 0,
           "arrowwidth": 1
          },
          "autotypenumbers": "strict",
          "coloraxis": {
           "colorbar": {
            "outlinewidth": 0,
            "ticks": ""
           }
          },
          "colorscale": {
           "diverging": [
            [
             0,
             "#8e0152"
            ],
            [
             0.1,
             "#c51b7d"
            ],
            [
             0.2,
             "#de77ae"
            ],
            [
             0.3,
             "#f1b6da"
            ],
            [
             0.4,
             "#fde0ef"
            ],
            [
             0.5,
             "#f7f7f7"
            ],
            [
             0.6,
             "#e6f5d0"
            ],
            [
             0.7,
             "#b8e186"
            ],
            [
             0.8,
             "#7fbc41"
            ],
            [
             0.9,
             "#4d9221"
            ],
            [
             1,
             "#276419"
            ]
           ],
           "sequential": [
            [
             0,
             "#0d0887"
            ],
            [
             0.1111111111111111,
             "#46039f"
            ],
            [
             0.2222222222222222,
             "#7201a8"
            ],
            [
             0.3333333333333333,
             "#9c179e"
            ],
            [
             0.4444444444444444,
             "#bd3786"
            ],
            [
             0.5555555555555556,
             "#d8576b"
            ],
            [
             0.6666666666666666,
             "#ed7953"
            ],
            [
             0.7777777777777778,
             "#fb9f3a"
            ],
            [
             0.8888888888888888,
             "#fdca26"
            ],
            [
             1,
             "#f0f921"
            ]
           ],
           "sequentialminus": [
            [
             0,
             "#0d0887"
            ],
            [
             0.1111111111111111,
             "#46039f"
            ],
            [
             0.2222222222222222,
             "#7201a8"
            ],
            [
             0.3333333333333333,
             "#9c179e"
            ],
            [
             0.4444444444444444,
             "#bd3786"
            ],
            [
             0.5555555555555556,
             "#d8576b"
            ],
            [
             0.6666666666666666,
             "#ed7953"
            ],
            [
             0.7777777777777778,
             "#fb9f3a"
            ],
            [
             0.8888888888888888,
             "#fdca26"
            ],
            [
             1,
             "#f0f921"
            ]
           ]
          },
          "colorway": [
           "#636efa",
           "#EF553B",
           "#00cc96",
           "#ab63fa",
           "#FFA15A",
           "#19d3f3",
           "#FF6692",
           "#B6E880",
           "#FF97FF",
           "#FECB52"
          ],
          "font": {
           "color": "#2a3f5f"
          },
          "geo": {
           "bgcolor": "white",
           "lakecolor": "white",
           "landcolor": "#E5ECF6",
           "showlakes": true,
           "showland": true,
           "subunitcolor": "white"
          },
          "hoverlabel": {
           "align": "left"
          },
          "hovermode": "closest",
          "mapbox": {
           "style": "light"
          },
          "paper_bgcolor": "white",
          "plot_bgcolor": "#E5ECF6",
          "polar": {
           "angularaxis": {
            "gridcolor": "white",
            "linecolor": "white",
            "ticks": ""
           },
           "bgcolor": "#E5ECF6",
           "radialaxis": {
            "gridcolor": "white",
            "linecolor": "white",
            "ticks": ""
           }
          },
          "scene": {
           "xaxis": {
            "backgroundcolor": "#E5ECF6",
            "gridcolor": "white",
            "gridwidth": 2,
            "linecolor": "white",
            "showbackground": true,
            "ticks": "",
            "zerolinecolor": "white"
           },
           "yaxis": {
            "backgroundcolor": "#E5ECF6",
            "gridcolor": "white",
            "gridwidth": 2,
            "linecolor": "white",
            "showbackground": true,
            "ticks": "",
            "zerolinecolor": "white"
           },
           "zaxis": {
            "backgroundcolor": "#E5ECF6",
            "gridcolor": "white",
            "gridwidth": 2,
            "linecolor": "white",
            "showbackground": true,
            "ticks": "",
            "zerolinecolor": "white"
           }
          },
          "shapedefaults": {
           "line": {
            "color": "#2a3f5f"
           }
          },
          "ternary": {
           "aaxis": {
            "gridcolor": "white",
            "linecolor": "white",
            "ticks": ""
           },
           "baxis": {
            "gridcolor": "white",
            "linecolor": "white",
            "ticks": ""
           },
           "bgcolor": "#E5ECF6",
           "caxis": {
            "gridcolor": "white",
            "linecolor": "white",
            "ticks": ""
           }
          },
          "title": {
           "x": 0.05
          },
          "xaxis": {
           "automargin": true,
           "gridcolor": "white",
           "linecolor": "white",
           "ticks": "",
           "title": {
            "standoff": 15
           },
           "zerolinecolor": "white",
           "zerolinewidth": 2
          },
          "yaxis": {
           "automargin": true,
           "gridcolor": "white",
           "linecolor": "white",
           "ticks": "",
           "title": {
            "standoff": 15
           },
           "zerolinecolor": "white",
           "zerolinewidth": 2
          }
         }
        },
        "title": {
         "text": "Histograma  del precio por marca del computador"
        },
        "xaxis": {
         "anchor": "y",
         "domain": [
          0,
          1
         ],
         "title": {
          "text": "Precio"
         }
        },
        "yaxis": {
         "anchor": "x",
         "domain": [
          0,
          1
         ],
         "title": {
          "text": "count"
         }
        }
       }
      }
     },
     "metadata": {},
     "output_type": "display_data"
    }
   ],
   "source": [
    "px.histogram(data, x=\"Price\", color=\"brand\", barmode=\"overlay\",\n",
    "             title='Histograma  del precio por marca del computador',\n",
    "             labels={'Price':'Precio', 'count': 'Cantidad'})"
   ]
  },
  {
   "attachments": {},
   "cell_type": "markdown",
   "metadata": {},
   "source": [
    "## Parte 1\n",
    "Plantee un modelo que tome como variable explicativa a $processor\\_name$ y otras 4 variables independientes más. Luego, ejecútelo computacionalmente e interprete los resultados."
   ]
  },
  {
   "attachments": {},
   "cell_type": "markdown",
   "metadata": {},
   "source": [
    "Como el precio tiene una distribución un tanto asimétrica, podríamos aplicar una transformación logaritmica a esta variable."
   ]
  },
  {
   "cell_type": "code",
   "execution_count": 43,
   "metadata": {},
   "outputs": [],
   "source": [
    "data[\"log_Price\"] = data[\"Price\"].apply(lambda x: np.log(x))\n",
    "\n",
    "data.replace([np.inf, -np.inf], np.nan, inplace=True)\n",
    "\n",
    "data.dropna(how='all', inplace=True)"
   ]
  },
  {
   "attachments": {},
   "cell_type": "markdown",
   "metadata": {},
   "source": [
    "$$ ln(Price) = \\beta_0 + \\beta_1 processor\\_name + \\beta_2 ram\\_gb + \\beta_3 os + \\beta_4 Touchscreen + \\beta_5 rating + \\varepsilon$$"
   ]
  },
  {
   "cell_type": "code",
   "execution_count": 44,
   "metadata": {},
   "outputs": [
    {
     "name": "stdout",
     "output_type": "stream",
     "text": [
      "                            OLS Regression Results                            \n",
      "==============================================================================\n",
      "Dep. Variable:              log_Price   R-squared:                       0.802\n",
      "Model:                            OLS   Adj. R-squared:                  0.797\n",
      "Method:                 Least Squares   F-statistic:                     162.0\n",
      "Date:                Mon, 29 May 2023   Prob (F-statistic):          2.63e-265\n",
      "Time:                        21:39:24   Log-Likelihood:                 81.455\n",
      "No. Observations:                 823   AIC:                            -120.9\n",
      "Df Residuals:                     802   BIC:                            -21.94\n",
      "Df Model:                          20                                         \n",
      "Covariance Type:            nonrobust                                         \n",
      "==================================================================================================\n",
      "                                     coef    std err          t      P>|t|      [0.025      0.975]\n",
      "--------------------------------------------------------------------------------------------------\n",
      "Intercept                         10.5574      0.170     62.171      0.000      10.224      10.891\n",
      "processor_name[T.Core i3]          0.5644      0.050     11.309      0.000       0.466       0.662\n",
      "processor_name[T.Core i5]          1.0242      0.052     19.555      0.000       0.921       1.127\n",
      "processor_name[T.Core i7]          1.3623      0.058     23.444      0.000       1.248       1.476\n",
      "processor_name[T.Core i9]          1.9894      0.098     20.268      0.000       1.797       2.182\n",
      "processor_name[T.M1]               0.7905      0.131      6.040      0.000       0.534       1.047\n",
      "processor_name[T.Pentium Quad]     0.3556      0.077      4.637      0.000       0.205       0.506\n",
      "processor_name[T.Ryzen 3]          0.5147      0.064      7.990      0.000       0.388       0.641\n",
      "processor_name[T.Ryzen 5]          0.9055      0.053     17.001      0.000       0.801       1.010\n",
      "processor_name[T.Ryzen 7]          1.1892      0.055     21.541      0.000       1.081       1.298\n",
      "processor_name[T.Ryzen 9]          1.6416      0.064     25.768      0.000       1.517       1.767\n",
      "ram_gb[T.32 GB]                    0.1583      0.166      0.952      0.341      -0.168       0.485\n",
      "ram_gb[T.4 GB]                    -0.1518      0.032     -4.756      0.000      -0.214      -0.089\n",
      "ram_gb[T.8 GB]                    -0.1587      0.028     -5.764      0.000      -0.213      -0.105\n",
      "os[T.Mac]                          0.4230      0.125      3.374      0.001       0.177       0.669\n",
      "os[T.Windows]                     -0.5032      0.058     -8.695      0.000      -0.617      -0.390\n",
      "Touchscreen[T.Yes]                 0.2456      0.024     10.041      0.000       0.198       0.294\n",
      "rating[T.2 stars]                  0.1346      0.176      0.763      0.446      -0.212       0.481\n",
      "rating[T.3 stars]                  0.2153      0.160      1.344      0.179      -0.099       0.530\n",
      "rating[T.4 stars]                  0.1347      0.160      0.842      0.400      -0.179       0.449\n",
      "rating[T.5 stars]                  0.3413      0.170      2.014      0.044       0.009       0.674\n",
      "==============================================================================\n",
      "Omnibus:                       99.529   Durbin-Watson:                   1.464\n",
      "Prob(Omnibus):                  0.000   Jarque-Bera (JB):              200.128\n",
      "Skew:                           0.722   Prob(JB):                     3.49e-44\n",
      "Kurtosis:                       4.936   Cond. No.                         79.7\n",
      "==============================================================================\n",
      "\n",
      "Notes:\n",
      "[1] Standard Errors assume that the covariance matrix of the errors is correctly specified.\n"
     ]
    }
   ],
   "source": [
    "model0 = smf.ols(formula='log_Price ~ processor_name + ram_gb + os + Touchscreen + rating', data=data)\n",
    "\n",
    "results = model0.fit()\n",
    "\n",
    "print(results.summary())"
   ]
  },
  {
   "attachments": {},
   "cell_type": "markdown",
   "metadata": {},
   "source": [
    "Tenemos un $R^2$ cercano a 0.802, es decir, un 80.2% de la variabilidad del modelo está siendo capturada por las variables explicativas consideradas.\n",
    "\n",
    "En cuanto al análisis e interpretación de cada variable, se puede mencionar lo siguiente:\n",
    "\n",
    "* $processor_name$: Todos los procesadores del tipo Core, Ryzen y M1 tienen una diferencia estadísticamente significativa con respecto al procesador Celerum Dual. Solo el valor Pentium Quad no es significativo con respecto al valor base. Además, todos los procesadores representan un aumento en el precio con respecto al precio que tiene el procesador Celerum Dual.\n",
    "\n",
    "* $ram\\_gb$: El valor base en esta categoría son 16 GB. Y todos los coeficientes son significativos salvo la categoría asociada a los 32 GB. Y se tiene que una laptop con memoria ram menor a los 16 GB, tienen un precio menor con respecto al valor base. Y que si el notebook tiene 32 GB, el precio será mayor al que tiene una laptop de 16 GB. O sea, existe una relación positiva entre cantidad de GB y precio del computador.\n",
    "\n",
    "* $os$: El valor base de esta categoría es DOS. Donde todos los coeficientes son significativos. Y los computadores MAC tienen precios mayores con respecto a los de sistema operativo DOS, mientras que los computadores Windows tienene precios menores con respecto a la categoría base.\n",
    "\n",
    "* $Touchscreen$: El valor base de esta categoría es No, o sea, las laptop que no tienen una pantalla táctil. Y se tiene que el que un computador tenga este tipo de pantalla, representa un efecto positivo y significativo sobre el precio del computador.\n",
    "\n",
    "* $rating$: El valor base de esta categoría es 1, es decir, la calificación mínima. Y se tiene que ningún coeficiente es significativo en esta variable. El valor 2 y 4 tienen precios menores que los notebooks de valor 1. Mientras que los computadores de rating 3 y 5 tienen mayores precios con respecto a 1.\n",
    "\n",
    "(Propuesto): Interpretar cada uno de los coeficientes Log-Level."
   ]
  },
  {
   "attachments": {},
   "cell_type": "markdown",
   "metadata": {},
   "source": [
    "## Parte 2\n",
    "Genere un nuevo modelo que recoja las mismas variables que el modelo anterior, pero que sume la variable $processor\\_brand$. ¿Qué problemas puede causar esto en términos de la calidad del modelo? ¿El nuevo modelo resulta realmente ser peor que el anterior?"
   ]
  },
  {
   "attachments": {},
   "cell_type": "markdown",
   "metadata": {},
   "source": [
    "$$ Price = \\beta_0 + \\beta_1 processor\\_name + \\beta_2 ram\\_gb + \\beta_3 os + \\beta_4 Touchscreen + \\beta_5 rating + \\beta_6 processor\\_brand + \\varepsilon$$"
   ]
  },
  {
   "cell_type": "code",
   "execution_count": 45,
   "metadata": {},
   "outputs": [
    {
     "name": "stdout",
     "output_type": "stream",
     "text": [
      "                            OLS Regression Results                            \n",
      "==============================================================================\n",
      "Dep. Variable:              log_Price   R-squared:                       0.802\n",
      "Model:                            OLS   Adj. R-squared:                  0.796\n",
      "Method:                 Least Squares   F-statistic:                     154.1\n",
      "Date:                Mon, 29 May 2023   Prob (F-statistic):          3.40e-264\n",
      "Time:                        21:39:25   Log-Likelihood:                 81.455\n",
      "No. Observations:                 823   AIC:                            -118.9\n",
      "Df Residuals:                     801   BIC:                            -15.22\n",
      "Df Model:                          21                                         \n",
      "Covariance Type:            nonrobust                                         \n",
      "==================================================================================================\n",
      "                                     coef    std err          t      P>|t|      [0.025      0.975]\n",
      "--------------------------------------------------------------------------------------------------\n",
      "Intercept                         10.5561      0.280     37.653      0.000      10.006      11.106\n",
      "processor_brand[T.Intel]           0.0014      0.225      0.006      0.995      -0.439       0.442\n",
      "processor_brand[T.M1]              0.3959      0.130      3.055      0.002       0.142       0.650\n",
      "processor_name[T.Core i3]          0.5644      0.050     11.301      0.000       0.466       0.662\n",
      "processor_name[T.Core i5]          1.0242      0.052     19.540      0.000       0.921       1.127\n",
      "processor_name[T.Core i7]          1.3622      0.058     23.422      0.000       1.248       1.476\n",
      "processor_name[T.Core i9]          1.9893      0.098     20.253      0.000       1.797       2.182\n",
      "processor_name[T.M1]               0.3959      0.130      3.055      0.002       0.142       0.650\n",
      "processor_name[T.Pentium Quad]     0.3556      0.077      4.635      0.000       0.205       0.506\n",
      "processor_name[T.Ryzen 3]          0.5161      0.233      2.214      0.027       0.059       0.974\n",
      "processor_name[T.Ryzen 5]          0.9069      0.230      3.940      0.000       0.455       1.359\n",
      "processor_name[T.Ryzen 7]          1.1905      0.227      5.249      0.000       0.745       1.636\n",
      "processor_name[T.Ryzen 9]          1.6430      0.233      7.053      0.000       1.186       2.100\n",
      "ram_gb[T.32 GB]                    0.1583      0.166      0.951      0.342      -0.168       0.485\n",
      "ram_gb[T.4 GB]                    -0.1518      0.032     -4.748      0.000      -0.215      -0.089\n",
      "ram_gb[T.8 GB]                    -0.1587      0.028     -5.758      0.000      -0.213      -0.105\n",
      "os[T.Mac]                          0.4230      0.125      3.372      0.001       0.177       0.669\n",
      "os[T.Windows]                     -0.5032      0.058     -8.689      0.000      -0.617      -0.390\n",
      "Touchscreen[T.Yes]                 0.2456      0.024     10.034      0.000       0.198       0.294\n",
      "rating[T.2 stars]                  0.1346      0.177      0.762      0.446      -0.212       0.481\n",
      "rating[T.3 stars]                  0.2153      0.160      1.343      0.179      -0.099       0.530\n",
      "rating[T.4 stars]                  0.1347      0.160      0.841      0.400      -0.180       0.449\n",
      "rating[T.5 stars]                  0.3413      0.170      2.012      0.045       0.008       0.674\n",
      "==============================================================================\n",
      "Omnibus:                       99.534   Durbin-Watson:                   1.464\n",
      "Prob(Omnibus):                  0.000   Jarque-Bera (JB):              200.138\n",
      "Skew:                           0.722   Prob(JB):                     3.47e-44\n",
      "Kurtosis:                       4.936   Cond. No.                     5.60e+16\n",
      "==============================================================================\n",
      "\n",
      "Notes:\n",
      "[1] Standard Errors assume that the covariance matrix of the errors is correctly specified.\n",
      "[2] The smallest eigenvalue is 9.38e-31. This might indicate that there are\n",
      "strong multicollinearity problems or that the design matrix is singular.\n"
     ]
    }
   ],
   "source": [
    "model1 = smf.ols(formula=\"log_Price ~ processor_brand + processor_name + ram_gb + os + Touchscreen + rating\", data=data)\n",
    "\n",
    "results = model1.fit()\n",
    "\n",
    "print(results.summary())"
   ]
  },
  {
   "cell_type": "code",
   "execution_count": 46,
   "metadata": {},
   "outputs": [
    {
     "name": "stdout",
     "output_type": "stream",
     "text": [
      "\n",
      "================================================================\n",
      "                                Ec. Mincer Ec. Mincer Modificada\n",
      "----------------------------------------------------------------\n",
      "Intercept                      10.55742*** 10.55607***          \n",
      "                               (0.16981)   (0.28035)            \n",
      "R-squared                      0.80154     0.80154              \n",
      "R-squared Adj.                 0.79659     0.79634              \n",
      "Touchscreen[T.Yes]             0.24558***  0.24559***           \n",
      "                               (0.02446)   (0.02448)            \n",
      "os[T.Mac]                      0.42298***  0.42298***           \n",
      "                               (0.12538)   (0.12546)            \n",
      "os[T.Windows]                  -0.50318*** -0.50318***          \n",
      "                               (0.05787)   (0.05791)            \n",
      "processor_brand[T.Intel]                   0.00136              \n",
      "                                           (0.22452)            \n",
      "processor_brand[T.M1]                      0.39595***           \n",
      "                                           (0.12962)            \n",
      "processor_name[T.Core i3]      0.56436***  0.56436***           \n",
      "                               (0.04990)   (0.04994)            \n",
      "processor_name[T.Core i5]      1.02422***  1.02421***           \n",
      "                               (0.05238)   (0.05242)            \n",
      "processor_name[T.Core i7]      1.36225***  1.36225***           \n",
      "                               (0.05811)   (0.05816)            \n",
      "processor_name[T.Core i9]      1.98935***  1.98934***           \n",
      "                               (0.09815)   (0.09822)            \n",
      "processor_name[T.M1]           0.79054***  0.39595***           \n",
      "                               (0.13088)   (0.12962)            \n",
      "processor_name[T.Pentium Quad] 0.35557***  0.35557***           \n",
      "                               (0.07667)   (0.07672)            \n",
      "processor_name[T.Ryzen 3]      0.51475***  0.51610**            \n",
      "                               (0.06442)   (0.23312)            \n",
      "processor_name[T.Ryzen 5]      0.90553***  0.90689***           \n",
      "                               (0.05326)   (0.23017)            \n",
      "processor_name[T.Ryzen 7]      1.18917***  1.19050***           \n",
      "                               (0.05520)   (0.22681)            \n",
      "processor_name[T.Ryzen 9]      1.64161***  1.64297***           \n",
      "                               (0.06371)   (0.23296)            \n",
      "ram_gb[T.32 GB]                0.15832     0.15832              \n",
      "                               (0.16632)   (0.16643)            \n",
      "ram_gb[T.4 GB]                 -0.15180*** -0.15181***          \n",
      "                               (0.03192)   (0.03197)            \n",
      "ram_gb[T.8 GB]                 -0.15868*** -0.15869***          \n",
      "                               (0.02753)   (0.02756)            \n",
      "rating[T.2 stars]              0.13460     0.13461              \n",
      "                               (0.17643)   (0.17654)            \n",
      "rating[T.3 stars]              0.21529     0.21529              \n",
      "                               (0.16015)   (0.16025)            \n",
      "rating[T.4 stars]              0.13470     0.13471              \n",
      "                               (0.16003)   (0.16013)            \n",
      "rating[T.5 stars]              0.34131**   0.34131**            \n",
      "                               (0.16951)   (0.16961)            \n",
      "================================================================\n",
      "Standard errors in parentheses.\n",
      "* p<.1, ** p<.05, ***p<.01\n"
     ]
    }
   ],
   "source": [
    "model_1 = smf.ols(formula='log_Price ~ processor_name + ram_gb + os + Touchscreen + rating', data=data).fit()\n",
    "model_2 = smf.ols(formula='log_Price ~ processor_brand + processor_name + ram_gb + os + Touchscreen + rating', data=data).fit()\n",
    "\n",
    "print(summary_col([model_1,model_2], float_format=\"%.5f\", model_names=[\"Ec. Mincer\", \"Ec. Mincer Modificada\"], stars=True))"
   ]
  },
  {
   "attachments": {},
   "cell_type": "markdown",
   "metadata": {},
   "source": [
    "El problema que puede ocurrir con este modelo es la multicolinealidad. Porque los nombres de cada procesador son propios de una marca. Por lo tanto, habrá una correlación muy alta entre marcas y nombre del procesador.\n",
    "\n",
    "Si observamos los resultados del modelo, podemos notar que el $R^2$ mantienen sus valores. Así mismo pasa con la log-verosimilitud, mientras AIC y BIC aumentan a causa de la adición de nuevos coeficientes.\n",
    "\n",
    "Por otro lado, podemos ver que algunos de los errores estándar de los coeficientes asociados a nombres de los procesadores aumentan, dada la multicolinealidad. Pero esto solo provoca una pérdida de un grado de significancia en el procesador Ryzen 3. Por otro lado, una de las categorías de marca resulta ser significativa.\n",
    "\n",
    "Al final, debido a que el modelo en términos de métricas generales no parece mejorar, pero se tiene información significativa con respecto a la marca M1 y AMD, decidir cuál es el mejor modelo dependerá de qué tan agregado queremos hacer el análisis, ya que si queremos tomar en cuenta la marca,puede que sea una buena idea mantener el segundo modelo. Pero si se prefiere un análisis más desagregado focalizandose en los nombres del procesador, a sabiendas de que un nombre corresponde a solo una marca, cualquier modelo podría ser bueno para estos fines."
   ]
  },
  {
   "attachments": {},
   "cell_type": "markdown",
   "metadata": {},
   "source": [
    "## Parte 3\n",
    "Evalúe la calidad del modelo en torno a los supuestos MCO."
   ]
  },
  {
   "attachments": {},
   "cell_type": "markdown",
   "metadata": {},
   "source": [
    "### 1. Linealidad de los parámetros\n",
    "\n",
    "Esto se cumple por la definición del modelo.\n",
    "\n",
    "### 2. No dependencia lineal entre variables explicativas\n",
    "\n",
    "Por el conocimiento que tenemos de las variables y dado que las regresiones no se indefinen, sabemos que no existe dependencia lineal entre variables independientes. Por lo tanto, los coeficientes pueden ser estimados por minimización de cuadrados ordinarios.\n",
    "\n",
    "### 3. Muestras aleatorias\n",
    "\n",
    "De acuerdo al análisis exploratorio, se puede concluir que existe gran variedad de registros. Por lo tanto, en cierta medida, se cumple este supuesto.\n",
    "\n",
    "### 4. Exogeneidad\n",
    "\n",
    "Para saber si ocurre endogeneidad, hay que hacerse la clásica pregunta: ¿Las variables explicativas están correlacionadas a algún factor que no estoy observando?\n",
    "\n",
    "Un caso podría ser que todas las especificaciones estén relacionadas con el propósito que busca satisfacer el computador. Ya que suele pasar que cuando vamos a una tienda a cotizar un computador, el o la vendedora que nos atiende nos pregunta: ¿Qué uso le darás al computador? Ya que hay dispositivos específicos para el gaming, el trabajo de oficina, el diseño gráfico y la creación de contenido, entre otros. Y cada propósito significará distintos tipos de especificaciones técnicas para el computador. De esta manera, por ejemplo, el tipo de tarjeta gráfica variará según si el uso es gaming o casual.\n",
    "\n",
    "### 5. Homocedasticidad\n",
    "\n",
    "La homoedasticidad se cumple si es que los residuos tienen igual varianza para todos los valores predichos."
   ]
  },
  {
   "cell_type": "code",
   "execution_count": 47,
   "metadata": {},
   "outputs": [
    {
     "data": {
      "image/png": "[encoded data removed]",
      "text/plain": [
       "<Figure size 864x576 with 1 Axes>"
      ]
     },
     "metadata": {
      "needs_background": "light"
     },
     "output_type": "display_data"
    }
   ],
   "source": [
    "# obtenemos los valores predichos y residuos del modelo\n",
    "predicted_values = model_1.predict()\n",
    "residual_values = model_1.resid\n",
    "\n",
    "# Residuos en función de los valores predichos\n",
    "plt.figure(figsize=(12, 8))\n",
    "chart = sns.scatterplot(x=predicted_values, y=residual_values)\n",
    "chart.set_title(\"Relación entre residuos y valores predichos\")\n",
    "chart.set_xlabel(\"Valores predichos\")\n",
    "chart.set_ylabel(\"Residuos\")\n",
    "plt.show()"
   ]
  },
  {
   "attachments": {},
   "cell_type": "markdown",
   "metadata": {},
   "source": [
    "Vemos que la varianza de los residuos aumenta con el precio. Por lo tanto, no se cumple el supuesto de hoocedastiidad por presencia de heterocedasticidad.\n",
    "\n",
    "Pero para tener más seguridad, comprobémoslo con un test de hipótesis. Un test de hipótesis que sirve para saber si el modelo presenta heterocedasticidad es el llamado Test de Breuch Pagan, cuya formulación es:\n",
    "\n",
    "$$H_0: \\text{La varianza es constante}$$\n",
    "$$H_A: \\text{La varianza no es constante}$$"
   ]
  },
  {
   "cell_type": "code",
   "execution_count": 48,
   "metadata": {},
   "outputs": [
    {
     "data": {
      "text/plain": [
       "[('Lagrange multiplier statistic', 132.4850140974421),\n",
       " ('p-value', 1.3304072584345139e-18),\n",
       " ('f-value', 7.693749120250265),\n",
       " ('f p-value', 1.836252862927987e-20)]"
      ]
     },
     "execution_count": 48,
     "metadata": {},
     "output_type": "execute_result"
    }
   ],
   "source": [
    "name = [\"Lagrange multiplier statistic\", \"p-value\", \"f-value\", \"f p-value\"]\n",
    "test = sms.het_breuschpagan(model_1.resid, model_1.model.exog)\n",
    "lzip(name, test)"
   ]
  },
  {
   "attachments": {},
   "cell_type": "markdown",
   "metadata": {},
   "source": [
    "Por lo tanto, a un 99% de significancia, se rechaza que la varianza es constante. O sea, hay heterocedasticidad, y no se cumple el supuesto de homocedasticidad de OLS."
   ]
  },
  {
   "attachments": {},
   "cell_type": "markdown",
   "metadata": {},
   "source": [
    "## Parte 4\n",
    "Dada la distribución del precio, podría decirse que esta variable distribuye según una Log-normal. Por lo tanto, estime por máxima verosimilitud la media y desviación estándar de esta distribución."
   ]
  },
  {
   "attachments": {},
   "cell_type": "markdown",
   "metadata": {},
   "source": [
    "La distribución Log-normal tiene la siguente función de densidad de probabilidad.\n",
    "\n",
    "$$\n",
    "\\begin{align*}\n",
    "f\\left(X \\mid \\mu, \\sigma^2\\right)=\\frac{1}{\\sqrt{\\left(2 \\pi \\sigma^2\\right)} X} \\exp \\left[-\\frac{(\\ln (X)-\\mu)^2}{2 \\sigma^2}\\right]\n",
    "\\end{align*}\n",
    "$$\n",
    "\n",
    "Con $X>0,-\\infty<\\mu<\\infty, \\sigma>0$.\n",
    "\n",
    "Sabiendo esto, procedemos a estimar los EMVs.\n",
    "\n",
    "Paso 1. Plantear la verosimilitud.\n",
    "\n",
    "$$\n",
    "\\begin{align*}\n",
    "\\mathrm{L}\\left(\\mu, \\sigma^2 \\mid X\\right) & =\\prod_{i=1}^n\\left[f\\left(X_i \\mid \\mu, \\sigma^2\\right)\\right] \\\\\n",
    "& =\\prod_{i=1}^n\\left(\\left(2 \\pi \\sigma^2\\right)^{-1 / 2} X_i^{-1} \\exp \\left[\\frac{-\\left(\\ln \\left(X_i\\right)-\\mu\\right)^2}{2 \\sigma^2}\\right]\\right) \\\\\n",
    "& =\\left(2 \\pi \\sigma^2\\right)^{-n / 2} \\prod_{i=1}^n X_i^{-1} \\exp \\left[\\sum_{i=1}^n \\frac{-\\left(\\ln \\left(X_i\\right)-\\mu\\right)^2}{2 \\sigma^2}\\right]\n",
    "\\end{align*}\n",
    "$$\n",
    "\n",
    "Paso 2. Plantear la log-verosimilitud.\n",
    "\n",
    "$$\n",
    "\\begin{align*}\n",
    "\\mathcal{L}\\left(\\mu, \\sigma^2 \\mid X\\right) & =\\ln \\left(\\left(2 \\pi \\sigma^2\\right)^{-n / 2} \\prod_{i=1}^n X_i^{-1} \\exp \\left[\\sum_{i=1}^n \\frac{-\\left(\\ln \\left(X_i\\right)-\\mu\\right)^2}{2 \\sigma^2}\\right]\\right) \\\\\n",
    "& =-\\frac{n}{2} \\ln \\left(2 \\pi \\sigma^2\\right)-\\sum_{i=1}^n \\ln \\left(X_i\\right)-\\frac{\\sum_{i=1}^n\\left(\\ln \\left(X_i\\right)-\\mu\\right)^2}{2 \\sigma^2} \\\\\n",
    "& =-\\frac{n}{2} \\ln \\left(2 \\pi \\sigma^2\\right)-\\sum_{i=1}^n \\ln \\left(X_i\\right)-\\frac{\\sum_{i=1}^n\\left[\\ln \\left(X_i\\right)^2-2 \\ln \\left(X_i\\right) \\mu+\\mu^2\\right]}{2 \\sigma^2} \\\\\n",
    "& =-\\frac{n}{2} \\ln \\left(2 \\pi \\sigma^2\\right)-\\sum_{i=1}^n \\ln \\left(X_i\\right)-\\frac{\\sum_{i=1}^n \\ln \\left(X_i\\right)^2}{2 \\sigma^2}+\\frac{\\sum_{i=1}^n 2 \\ln \\left(X_i\\right) \\mu}{2 \\sigma^2}-\\frac{\\sum_{i=1}^n \\mu^2}{2 \\sigma^2} \\\\\n",
    "& = -\\frac{n}{2} \\ln \\left(2 \\pi \\sigma^2\\right)-\\sum_{i=1}^n \\ln \\left(X_i\\right)-\\frac{\\sum_{i=1}^n \\ln \\left(X_i\\right)^2}{2 \\sigma^2}+\\frac{\\sum_{i=1}^n \\ln \\left(X_i\\right) \\mu}{\\sigma^2}-\\frac{n \\mu^2}{2 \\sigma^2}\n",
    "\\end{align*}\n",
    "$$\n",
    "\n",
    "Paso 3. Aplicar condición de primero orden y despejar los parámetros.\n",
    "\n",
    "Como estamos estimando dos parámetros $\\mu$ y $\\sigma$, separamos el cálculo por cada parámetro.\n",
    "\n",
    "* Media $\\mu$\n",
    "\n",
    "$$\n",
    "\\begin{align*}\n",
    "\\frac{\\delta \\mathcal{L}}{\\delta \\mu} & =\\frac{\\sum_{i=1}^n \\ln \\left(X_i\\right)}{\\hat{\\sigma}^2}-\\frac{2 n \\hat{\\mu}}{2 \\hat{\\sigma}^2}=0 \\\\\n",
    "& \\Longrightarrow \\frac{n \\hat{\\mu}}{\\hat{\\sigma}^2}=\\frac{\\sum_{i=1}^n \\ln \\left(X_i\\right)}{\\hat{\\sigma}^2} \\\\\n",
    "& \\Longrightarrow n \\hat{\\mu}=\\sum_{i=1}^n \\ln \\left(X_i\\right) \\\\\n",
    "& \\Longrightarrow \\hat{\\mu}=\\frac{\\sum_{i=1}^n \\ln \\left(X_i\\right)}{n}\n",
    "\\end{align*}\n",
    "$$\n",
    "\n",
    "* Desviación estándar $\\sigma$\n",
    "\n",
    "$$\n",
    "\\begin{align*}\n",
    "\\frac{\\delta \\mathcal{L}}{\\delta \\sigma^2} & =-\\frac{n}{2} \\frac{1}{\\hat{\\sigma}^2}-\\frac{\\sum_{i=1}^n\\left(\\ln \\left(X_i\\right)-\\hat{\\mu}\\right)^2}{2}\\left(-\\hat{\\sigma}^2\\right)^{-2} \\\\\n",
    "& =-\\frac{n}{2 \\hat{\\sigma}^2}+\\frac{\\sum_{i=1}^n\\left(\\ln \\left(X_i\\right)-\\hat{\\mu}\\right)^2}{2\\left(\\hat{\\sigma}^2\\right)^2}=0 \\\\\n",
    "& \\Longrightarrow \\frac{n}{2 \\hat{\\sigma}^2}=\\frac{\\sum_{i=1}^n\\left(\\ln \\left(X_i\\right)-\\hat{\\mu}\\right)^2}{2 \\hat{\\sigma}^4} \\\\\n",
    "& \\Longrightarrow n=\\frac{\\sum_{i=1}^n\\left(\\ln \\left(X_i\\right)-\\hat{\\mu}\\right)^2}{\\hat{\\sigma}^2} \\\\\n",
    "& \\Longrightarrow \\hat{\\sigma}^2=\\frac{\\sum_{i=1}^n\\left(\\ln \\left(X_i\\right)-\\hat{\\mu}\\right)^2}{n} \\\\\n",
    "& \\Longrightarrow \\hat{\\sigma}^2=\\frac{\\sum_{i=1}^n\\left(\\ln \\left(X_i\\right)-\\frac{\\sum_{i=1}^n \\ln \\left(X_i\\right)}{n}\\right)^2}{n} .\n",
    "\\end{align*}\n",
    "$$\n",
    "\n",
    "Paso 4. Verificar que las estimaciones sean un máximo de la función de log-verosimilitud\n",
    "\n",
    "Como estamos calculando dos parámetros, calculamos los elementos del Hessiano.\n",
    "\n",
    "$$\n",
    "\\begin{align*}\n",
    "H=\\left[\\begin{array}{cc}\n",
    "\\frac{\\delta^2 \\mathcal{L}}{\\delta \\mu^2} & \\frac{\\delta^2 \\mathcal{L}}{\\delta \\sigma^2 \\cdot \\delta \\mu} \\\\\n",
    "\\frac{\\delta^2 \\mathcal{L}}{\\delta \\mu \\cdot \\delta \\sigma^2} & \\frac{\\delta^2 \\mathcal{L}}{\\delta\\left(\\sigma^2\\right)^2}\n",
    "\\end{array}\\right]\n",
    "\\end{align*}\n",
    "$$\n",
    "\n",
    "\n",
    "\n",
    "$$\n",
    "\\begin{align*}\n",
    "\\frac{\\delta^2 \\mathcal{L}}{\\delta \\mu^2} & =\\frac{\\delta}{\\delta \\mu}\\left[\\frac{\\sum_{i=1}^n \\ln \\left(X_i\\right)}{\\sigma^2}-\\frac{2 n \\mu}{2 \\sigma^2}\\right] \\\\\n",
    "& =-\\frac{n}{\\hat{\\sigma}^2} \\\\\n",
    "\\frac{\\delta^2 \\mathcal{L}}{\\delta\\left(\\sigma^2\\right)^2} & =\\frac{\\delta}{\\delta \\sigma^2}\\left[-\\frac{n}{2 \\sigma^2}+\\frac{\\sum_{i=1}^n\\left(\\ln \\left(X_i\\right)-\\mu\\right)^2}{2\\left(\\sigma^2\\right)^2}\\right] \\\\\n",
    "& =\\frac{n}{2\\left(\\hat{\\sigma}^2\\right)^2}-2 \\cdot \\frac{\\sum_{i=1}^n\\left(\\ln \\left(X_i\\right)-\\hat{\\mu}\\right)^2}{2\\left(\\hat{\\sigma}^2\\right)^3} \\\\\n",
    "& =\\frac{1}{2 \\cdot\\left(\\hat{\\sigma}^2\\right)^3}\\left[n \\hat{\\sigma}^2-2 \\sum_{i=1}^n\\left(\\ln \\left(X_i\\right)-\\hat{\\mu}\\right)^2\\right] \\\\\n",
    "& =\\frac{1}{2 \\cdot\\left(\\hat{\\sigma}^2\\right)^3}\\left[\\sum_{i=1}^n\\left(\\ln \\left(X_i\\right)-\\hat{\\mu}\\right)^2-2 \\sum_{i=1}^n\\left(\\ln \\left(X_i\\right)-\\hat{\\mu}\\right)^2\\right] \\\\\n",
    "& =\\frac{1}{2 \\cdot\\left(\\hat{\\sigma}^2\\right)^3}\\left[-\\sum_{i=1}^n\\left(\\ln \\left(X_i\\right)-\\hat{\\mu}\\right)^2\\right] \\\\\n",
    "\\frac{\\delta^2 \\mathcal{L}}{\\delta \\sigma^2 \\cdot \\delta \\mu} & =\\frac{\\delta}{\\delta \\mu}\\left[-\\frac{n}{2 \\sigma^2}+\\frac{\\sum_{i=1}^n\\left(\\ln \\left(X_i\\right)-\\mu\\right)^2}{2\\left(\\sigma^2\\right)^2}\\right] \\\\\n",
    "& =\\frac{-2 \\cdot \\sum_{i=1}^n\\left(\\ln \\left(X_i\\right)-\\hat{\\mu}\\right)}{2\\left(\\hat{\\sigma}^2\\right)^2} \\\\\n",
    "& =\\frac{n \\hat{\\mu}-\\sum_{i=1}^n \\ln \\left(X_i\\right)}{\\left(\\hat{\\sigma}^2\\right)^2} \\\\\n",
    "& =\\frac{n \\frac{\\sum_{i-1}^n \\ln \\left(X_i\\right)}{n}-\\sum_{i=1}^n \\ln \\left(X_i\\right)}{\\left(\\hat{\\sigma}^2\\right)^2} \\\\\n",
    "& =\\frac{\\sum_{i=1}^n \\ln \\left(X_i\\right)-\\sum_{i=1}^n \\ln \\left(X_i\\right)}{\\left(\\hat{\\sigma}^2\\right)^2}=0 \\\\\n",
    "\\frac{\\delta^2 \\mathcal{L}}{\\delta \\mu \\cdot \\delta \\sigma^2} & =\\frac{\\delta}{\\delta \\sigma^2}\\left[\\frac{\\sum_{i=1}^n \\ln \\left(X_i\\right)}{\\sigma^2}-\\frac{2 n \\mu}{2 \\sigma^2}\\right] \\\\\n",
    "& =\\frac{-\\sum_{i=1}^n \\ln \\left(X_i\\right)+n \\hat{\\mu}}{\\left(\\hat{\\sigma}^2\\right)^2} \\\\\n",
    "& =\\frac{-\\sum_{i=1}^n \\ln \\left(X_i\\right)+n \\frac{\\sum_{i=1}^n \\ln \\left(X_i\\right)}{n}}{\\left(\\hat{\\sigma}^2\\right)^2} \\\\\n",
    "& =\\frac{-\\sum_{i=1}^n \\ln \\left(X_i\\right)+\\sum_{i=1}^n \\ln \\left(X_i\\right)}{\\left(\\hat{\\sigma}^2\\right)^2}=0\n",
    "\\end{align*}\n",
    "$$\n",
    "\n",
    "Teniendo estos resultados, reemplazamos los valores en el Hessiano.\n",
    "\n",
    "$$\n",
    "H=\\left[\\begin{array}{cc}\n",
    "\\frac{\\delta^2 \\mathcal{L}}{\\delta \\mu^2} & \\frac{\\delta^2 \\mathcal{L}}{\\delta \\sigma^2 \\cdot \\delta \\mu} \\\\\n",
    "\\frac{\\delta^2 \\mathcal{L}}{\\delta \\mu \\cdot \\delta \\sigma^2} & \\frac{\\delta^2 \\mathcal{L}}{\\delta\\left(\\sigma^2\\right)^2}\n",
    "\\end{array}\\right]=\\left[\\begin{array}{cc}\n",
    "-\\frac{n}{\\hat{\\sigma}^2} & 0 \\\\\n",
    "0 & \\frac{-\\sum_{i=1}^n\\left(\\ln \\left(X_i\\right)-\\hat{\\mu}\\right)^2}{2 \\cdot\\left(\\hat{\\sigma}^2\\right)^3}\n",
    "\\end{array}\\right]\n",
    "$$\n",
    "\n",
    "El cual es definido negativo. Por lo tanto, los estimadores de máxima verosimilitud obtenidos en el paso anterior, efectivamente son máximos de la curva de verosimilitud."
   ]
  },
  {
   "attachments": {},
   "cell_type": "markdown",
   "metadata": {},
   "source": [
    "Ahora reemplacemos con los datos"
   ]
  },
  {
   "cell_type": "code",
   "execution_count": 51,
   "metadata": {},
   "outputs": [
    {
     "data": {
      "text/plain": [
       "11.118157007791334"
      ]
     },
     "execution_count": 51,
     "metadata": {},
     "output_type": "execute_result"
    }
   ],
   "source": [
    "n = len(data.index)\n",
    "log_price = data[\"log_Price\"].to_numpy()\n",
    "\n",
    "mu_MLE = log_price.sum() / n\n",
    "mu_MLE"
   ]
  },
  {
   "cell_type": "code",
   "execution_count": 59,
   "metadata": {},
   "outputs": [
    {
     "data": {
      "text/plain": [
       "0.24204030874490756"
      ]
     },
     "execution_count": 59,
     "metadata": {},
     "output_type": "execute_result"
    }
   ],
   "source": [
    "var_MLE = (np.power(log_price - mu_MLE, 2)).sum() / n\n",
    "var_MLE"
   ]
  },
  {
   "attachments": {},
   "cell_type": "markdown",
   "metadata": {},
   "source": [
    "## Parte 5\n",
    "Estime los mismos parámetros anteriores por el método de los momentos y compare con el resultado de la parte anterior."
   ]
  },
  {
   "attachments": {},
   "cell_type": "markdown",
   "metadata": {},
   "source": [
    "Para realizar el método de los momentos, necesitamos saber $\\mathbb{E}(X)$ y $\\mathbb{E}(X^2)$\n",
    "\n",
    "Y en la Log-normal tenemos la siguiente propiedad:\n",
    "\n",
    "$$\n",
    "\\mathbb{E}\\left(X^n\\right)=\\exp \\left[n \\mu+n^2 \\sigma^2 / 2\\right]\n",
    "$$\n",
    "\n",
    "Por lo tanto:\n",
    "\n",
    "$$\n",
    "\\begin{align*}\n",
    "& \\Longrightarrow E(X)=\\exp \\left[\\mu+\\sigma^2 / 2\\right] \\\\\n",
    "& \\Longrightarrow E\\left(X^2\\right)=\\exp \\left[2 \\mu+2 \\sigma^2\\right]\n",
    "\\end{align*}\n",
    "$$\n",
    "\n",
    "Ahora, aplicamos las igualdades $\\mathbb{E}(X) = m_1$ y $\\mathbb{E}(X^2) = m_2$. Donde:\n",
    "\n",
    "$$\n",
    "\\begin{align*}\n",
    "& m_1=\\frac{\\sum_{i=1}^n X_i}{n} \\\\\n",
    "& m_2=\\frac{\\sum_{i=1}^n X_i^2}{n}\n",
    "\\end{align*}\n",
    "$$\n",
    "\n",
    "Cuando igualamos el primer momento $\\mathbb{E}(X) = m_1$:\n",
    "\n",
    "$$\n",
    "\\begin{align*}\n",
    "& \\Longrightarrow e^{\\tilde{\\mu}+\\bar{\\sigma}^2 / 2}=\\frac{\\sum_{i=1}^n X_i}{n} \\\\\n",
    "& \\Longrightarrow \\tilde{\\mu}+\\frac{\\tilde{\\sigma}^2}{2}=\\ln \\left[\\frac{\\sum_{i=1}^n X_i}{n}\\right] \\\\\n",
    "& \\Longrightarrow \\tilde{\\mu}+\\frac{\\tilde{\\sigma}^2}{2}=\\ln \\left(\\sum_{i=1}^n X_i\\right)-\\ln (n) \\\\\n",
    "& \\Longrightarrow \\tilde{\\mu}=\\ln \\left(\\sum_{i=1}^n X_i\\right)-\\ln (n)-\\frac{\\tilde{\\sigma}^2}{2} \n",
    "\\end{align*}\n",
    "$$\n",
    "\n",
    "Cuando igualamos el segundo momento $\\mathbb{E}(X^2) = m_2$:\n",
    "\n",
    "$$\n",
    "\\begin{align*}\n",
    "& \\Longrightarrow e^{2\\left(\\tilde{\\mu}+\\tilde{\\sigma}^2\\right)}=\\frac{\\sum_{i=1}^n X_i^2}{n} \\\\\n",
    "& \\Longrightarrow 2 \\tilde{\\mu}+2 \\tilde{\\sigma}^2=\\ln \\left[\\frac{\\sum_{i=1}^n X_i^2}{n}\\right] \\\\\n",
    "& \\Longrightarrow 2 \\tilde{\\mu}+2 \\tilde{\\sigma}^2=\\ln \\left(\\sum_{i=1}^n X_i^2\\right)-\\ln (n) \\\\\n",
    "& \\Longrightarrow \\tilde{\\mu}=\\left[\\ln \\left(\\sum_{i=1}^n X_i^2\\right)-\\ln (n)-2 \\tilde{\\sigma}^2\\right] * \\frac{1}{2} \\\\\n",
    "& \\Longrightarrow \\tilde{\\mu}=\\frac{\\ln \\left(\\sum_{i=1}^n X_i^2\\right)}{2}-\\frac{\\ln (n)}{2}-\\tilde{\\sigma}^2\n",
    "\\end{align*}\n",
    "$$\n",
    "\n",
    "Igualamos las expresiones obtenidas para $\\tilde{\\mu}$:\n",
    "\n",
    "$$\n",
    "\\begin{align*}\n",
    "& \\Longrightarrow \\ln \\left(\\sum_{i=1}^n X_i\\right)-\\ln (n)-\\frac{\\tilde{\\sigma}^2}{2}=\\frac{\\ln \\left(\\sum_{i=1}^n X_i^2\\right)}{2}-\\frac{\\ln (n)}{2}-\\tilde{\\sigma}^2 \\\\\n",
    "& \\Longrightarrow 2 \\ln \\left(\\sum_{i=1}^n X_i\\right)-2 \\ln (n)-\\tilde{\\sigma}^2=\\ln \\left(\\sum_{i=1}^n X_i^2\\right)-\\ln (n)-2 \\tilde{\\sigma}^2 \\\\\n",
    "& \\Longrightarrow \\tilde{\\sigma}^2=\\ln \\left(\\sum_{i=1}^n X_i^2\\right)-2 \\ln \\left(\\sum_{i=1}^n X_i\\right)+\\ln (n)\n",
    "\\end{align*}\n",
    "$$\n",
    "\n",
    "Reemplazando $\\tilde{\\sigma}^2$ en la expresión que define $\\tilde{\\mu}$:\n",
    "\n",
    "$$\n",
    "\\begin{align*}\n",
    "\\tilde{\\mu} & =\\ln \\left(\\sum_{i=1}^n X_i\\right)-\\ln (n)-\\frac{\\tilde{\\sigma}^2}{2} \\\\\n",
    "& =\\ln \\left(\\sum_{i=1}^n X_i\\right)-\\ln (n)-\\frac{1}{2}\\left[\\ln \\left(\\sum_{i=1}^n X_i^2\\right)-2 \\ln \\left(\\sum_{i=1}^n X_i\\right)+\\ln (n)\\right] \\\\\n",
    "& =\\ln \\left(\\sum_{i=1}^n X_i\\right)-\\ln (n)-\\frac{\\ln \\left(\\sum_{i=1}^n X_i^2\\right)}{2}+\\ln \\left(\\sum_{i=1}^n X_i\\right)-\\frac{\\ln (n)}{2} \\\\\n",
    "& =2 \\ln \\left(\\sum_{i=1}^n X_i\\right)-\\frac{3}{2} \\ln (n)-\\frac{\\ln \\left(\\sum_{i=1}^n X_i^2\\right)}{2}\n",
    "\\end{align*}\n",
    "$$\n",
    "\n",
    "Por lo tanto, las estimaciones por el método de los momentos son:\n",
    "\n",
    "$$\n",
    "\\begin{align*}\n",
    "\\tilde{\\mu} & =-\\frac{\\ln \\left(\\sum_{i=1}^n X_i^2\\right)}{2}+2 \\ln \\left(\\sum_{i=1}^n X_i\\right)-\\frac{3}{2} \\ln (n) \\\\\n",
    "\\tilde{\\sigma}^2 & =\\ln \\left(\\sum_{i=1}^n X_i^2\\right)-2 \\ln \\left(\\sum_{i=1}^n X_i\\right)+\\ln (n) .\n",
    "\\end{align*}\n",
    "$$"
   ]
  },
  {
   "attachments": {},
   "cell_type": "markdown",
   "metadata": {},
   "source": [
    "Ahora reemplacemos con los datos"
   ]
  },
  {
   "cell_type": "code",
   "execution_count": 58,
   "metadata": {},
   "outputs": [
    {
     "data": {
      "text/plain": [
       "11.10006705173452"
      ]
     },
     "execution_count": 58,
     "metadata": {},
     "output_type": "execute_result"
    }
   ],
   "source": [
    "Price = data[\"Price\"].to_numpy()\n",
    "Price_2 = np.power(Price, 2)\n",
    "\n",
    "mu_MM = -( np.log(Price_2.sum()) /2) + 2 * np.log(Price.sum()) - (3/2) * np.log(n)\n",
    "mu_MM"
   ]
  },
  {
   "cell_type": "code",
   "execution_count": 62,
   "metadata": {},
   "outputs": [
    {
     "data": {
      "text/plain": [
       "-126322525.78123839"
      ]
     },
     "execution_count": 62,
     "metadata": {},
     "output_type": "execute_result"
    }
   ],
   "source": [
    "var_MM = np.log(Price_2.sum()) - 2 * Price.sum() + np.log(n)\n",
    "var_MM"
   ]
  }
 ],
 "metadata": {
  "kernelspec": {
   "display_name": "Python 3 (ipykernel)",
   "language": "python",
   "name": "python3"
  },
  "language_info": {
   "codemirror_mode": {
    "name": "ipython",
    "version": 3
   },
   "file_extension": ".py",
   "mimetype": "text/x-python",
   "name": "python",
   "nbconvert_exporter": "python",
   "pygments_lexer": "ipython3",
   "version": "3.9.12"
  }
 },
 "nbformat": 4,
 "nbformat_minor": 2
}
