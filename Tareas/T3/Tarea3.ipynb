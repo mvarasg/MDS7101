{
 "cells": [
  {
   "attachments": {},
   "cell_type": "markdown",
   "metadata": {},
   "source": [
    "# Tarea 3: Inferencia Bayesiana - Loss Given Default \n",
    "\n",
    "#### MDS7101 Estadística: Teoría y Aplicaciones\n",
    "**Profesora:** Constanza Contreras  \n",
    "**Auxiliar:** Carolina Salgado  \n",
    "**Ayudante:** Camila Pulgar  \n",
    "  \n",
    "**Estudiantes:** Canela Orellana y Maximiliano Varas\n"
   ]
  },
  {
   "attachments": {},
   "cell_type": "markdown",
   "metadata": {},
   "source": [
    "# Parte 1 - Modelamiento"
   ]
  },
  {
   "attachments": {},
   "cell_type": "markdown",
   "metadata": {},
   "source": [
    "### 1.-\n",
    "La función de verosimilitud se plantea de la siguiente forma:\n",
    "\n",
    "$$L(\\Theta) = \\prod^{N}_{i=1} f(x \\mid \\mu, \\phi)$$\n",
    "\n",
    "En este caso utilizaremos la distribución de probabilidad beta para la función de probabilidad de la verosimilitud, la cual viene dada por\n",
    "\n",
    "$$f(x \\mid \\mu, \\phi) = \\frac{\\Gamma(\\phi)}{\\Gamma(\\mu\\phi) \\cdot \\Gamma((1-\\mu)\\phi)} \\cdot x^{\\mu\\phi - 1} \\cdot (1-x)^{((1-\\mu)\\phi - 1)}$$\n",
    "\n",
    "Con lo cual la verosimilitud planteada queda:\n",
    "\n",
    "$$L(\\mu, \\phi) = \\prod^{N}_{i=1} \\frac{\\Gamma(\\phi)}{\\Gamma(\\mu\\phi) \\cdot \\Gamma((1-\\mu)\\phi)} \\cdot x^{\\mu\\phi - 1} \\cdot (1-x)^{((1-\\mu)\\phi - 1)}$$\n",
    "\n",
    "y como siempre, es de utilidad expresar la log verosimilitud\n",
    "\n",
    "$$l(\\mu, \\phi) = \\sum^{N}_{i=1} ln \\left( \\frac{\\Gamma(\\phi)}{\\Gamma(\\mu\\phi) \\cdot \\Gamma((1-\\mu)\\phi)} \\cdot x^{\\mu\\phi - 1} \\cdot (1-x)^{((1-\\mu)\\phi - 1)} \\right)$$"
   ]
  },
  {
   "attachments": {},
   "cell_type": "markdown",
   "metadata": {},
   "source": [
    "### 2.-\n",
    "\n",
    "A continuación se plantan los prior para los parámetros, para $\\mu$ se utiliza una distribución normal y para $\\phi$ una distribución gamma, del mismo modo que se recomienda en el Modelo I del paper []\n",
    "\n",
    "$$ f(\\mu) = \\left. \\frac{1}{\\sigma \\sqrt(2 \\pi)} exp \\left( \\frac{- ( x- \\mu)^{2}}{2 \\sigma^{2}} \\right) \\right|_{(0.5, 0.5^{2})} = $$\n",
    "\n",
    "\n",
    "$$ f(\\phi) = \\left. \\frac{x^{\\alpha-1} e^{-\\beta x} \\beta^{\\alpha}}{\\Gamma (\\alpha)} \\right|_{(3, 0.1)} = $$\n"
   ]
  },
  {
   "attachments": {},
   "cell_type": "markdown",
   "metadata": {},
   "source": [
    "### 3.-\n",
    "\n",
    "Se plantea la distribución posterior sabiendo que \n",
    "\n",
    "$$f (\\mu, \\phi \\mid x) \\propto f(x \\mid \\mu, \\phi) f(\\mu, \\phi)$$\n",
    "\n"
   ]
  },
  {
   "cell_type": "code",
   "execution_count": null,
   "metadata": {},
   "outputs": [],
   "source": [
    "import pandas as pd"
   ]
  }
 ],
 "metadata": {
  "language_info": {
   "name": "python"
  },
  "orig_nbformat": 4
 },
 "nbformat": 4,
 "nbformat_minor": 2
}
