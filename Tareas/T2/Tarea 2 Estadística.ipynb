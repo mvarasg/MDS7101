{
 "cells": [
  {
   "cell_type": "markdown",
   "id": "c770d359-273d-4127-8c0b-53320062a59d",
   "metadata": {},
   "source": [
    "# Tarea 2: Estimadores OLS - MLE - Momentos \n",
    "\n",
    "#### MDS7101 Estadística: Teoría y Aplicaciones\n",
    "**Profesora:** Constanza Contreras  \n",
    "**Auxiliar:** Carolina Salgado  \n",
    "**Ayudante:** Camila Pulgar  \n",
    "  \n",
    "**Estudiantes:** Canela Orellana y Maximiliano Varas\n"
   ]
  },
  {
   "cell_type": "markdown",
   "id": "4de4106a-6f02-4423-aef8-afb6eb5f7e48",
   "metadata": {},
   "source": [
    "En la presente tarea intentaremos dar respuesta a alguna pregunta de investigación que\n",
    "debe escoger. \n",
    "\n",
    "\n",
    "Utilizaremos las herramientas vistas durante las cátedras para comprender el\n",
    "fenómeno/experimento en observación.\n",
    "\n",
    "\n",
    "Para realizar el análisis, por supuesto que necesitaremos datos. Idealmente utilice el mismo\n",
    "problema y datos de la Tarea 1. De no calzar con los objetivos de esta tarea, puede buscar\n",
    "en repositorios abiertos como el de Kaggle.com algún dataset que le sirva para realizar sus\n",
    "análisis o utilizar datos que posea si es un tema en el cual ha trabajado antes."
   ]
  },
  {
   "cell_type": "markdown",
   "id": "59681524-f69c-4ea8-9a15-256a8e2cc978",
   "metadata": {},
   "source": [
    "# Parte 1: Estimación"
   ]
  },
  {
   "cell_type": "markdown",
   "id": "616b6aca-8be0-4a61-b384-f424df49f6b5",
   "metadata": {},
   "source": [
    "### 1. \n",
    "**Recuerdatorio breve de la pregunta de investigación, el contexto en el cual se enmarca,\n",
    "los datos utilizados y las principales conclusiones de la tarea 1**"
   ]
  },
  {
   "cell_type": "markdown",
   "id": "760c6737-f8f9-4b76-97cd-34e0bf12da83",
   "metadata": {},
   "source": [
    "Para la primera tarea se utilizó el set de datos... "
   ]
  },
  {
   "cell_type": "markdown",
   "id": "bf71ffd3-5ccb-4737-8ae7-4f0a225e4170",
   "metadata": {},
   "source": [
    "### 2. \n",
    "**Plantee un módelo paramétrico para modelar el fenómeno que esta estudiando. Justifique su elección. Plantee una forma de estimación de un modelo paramétrico y justifique su elección.**"
   ]
  },
  {
   "cell_type": "code",
   "execution_count": 1,
   "id": "be8a8539-32ca-4fea-8c68-a706df660259",
   "metadata": {},
   "outputs": [
    {
     "name": "stderr",
     "output_type": "stream",
     "text": [
      "/Users/canelaorellana/opt/anaconda3/lib/python3.8/site-packages/scipy/__init__.py:138: UserWarning: A NumPy version >=1.16.5 and <1.23.0 is required for this version of SciPy (detected version 1.24.3)\n",
      "  warnings.warn(f\"A NumPy version >={np_minversion} and <{np_maxversion} is required for this version of \"\n"
     ]
    }
   ],
   "source": [
    "# Paquetes para tratamiento de datos\n",
    "import pandas as pd\n",
    "import numpy as np\n",
    "\n",
    "# Librerías gráficas\n",
    "import matplotlib.pyplot as plt\n",
    "import seaborn as sns\n",
    "\n",
    "# Paquetes estadísticos\n",
    "from scipy.stats import norm, lognorm, kstest, ttest_ind\n",
    "import statsmodels.api as sm\n",
    "\n",
    "# Librerías para machine learning\n",
    "from sklearn.preprocessing import LabelEncoder\n",
    "from sklearn.model_selection import train_test_split\n",
    "from sklearn.ensemble import RandomForestClassifier\n",
    "from sklearn.metrics import classification_report"
   ]
  },
  {
   "cell_type": "markdown",
   "id": "a1cee693-a9af-429c-ad39-490033c656eb",
   "metadata": {},
   "source": [
    "### 3.\n",
    "**Realice la estimación definida en la parte anterior, reporte resultados acerca de la estimación y comente**"
   ]
  },
  {
   "cell_type": "code",
   "execution_count": 2,
   "id": "07fb6205-99d2-4bed-bd70-1e61fba4ab58",
   "metadata": {},
   "outputs": [],
   "source": [
    "#"
   ]
  },
  {
   "cell_type": "markdown",
   "id": "5a90b072-64b7-459b-8e20-71bc870f31fa",
   "metadata": {},
   "source": [
    "### 4.\n",
    "**Analice la calidad del modelo estimado. Para esto comente acerca de las métricas utilizadas para evaluar, los supuestos detrás de los modelos o del método de estimación. Por ejemplo, si se cumple o no algun supuesto de OLS, si el estimador es insesgado, la varianza que posee, etc.**"
   ]
  },
  {
   "cell_type": "code",
   "execution_count": null,
   "id": "6b126c7d-b6ab-4d1b-a9a9-626f486dcd6a",
   "metadata": {},
   "outputs": [],
   "source": []
  },
  {
   "cell_type": "markdown",
   "id": "1517fbf7-4225-4e1a-b18e-a250450ef127",
   "metadata": {},
   "source": []
  },
  {
   "cell_type": "markdown",
   "id": "06bddb25-56b1-4ccc-86ad-d43f643b8c7f",
   "metadata": {},
   "source": [
    "# Parte 2: Análisis e Interpretación"
   ]
  },
  {
   "cell_type": "markdown",
   "id": "8ccd7f02-4abb-4014-9bbc-76a06f5d18e7",
   "metadata": {},
   "source": [
    "**Interprete las estimaciones obtenidas para sus parámetros (los más importantes en su estudio). Por ejemplo, si ajusta un modelo de regresión lineal por OLS, interprete los beta obtenidos. ¿Qué puede concluir al respecto? ¿Qué puede concluir de la pregunta de investigación que se planteó? ¿Existen potenciales sesgos que pueda identificar? ¿Existen problemas de endogeneidad? ¿Existe significancia estadística para los efectos estudiados? ¿Cómo afecta la calidad del modelo estudiada en la parte anterior en esta interpretación/resultados?**"
   ]
  },
  {
   "cell_type": "code",
   "execution_count": null,
   "id": "f0fbe531-6688-401a-bc49-dc8a6f943683",
   "metadata": {},
   "outputs": [],
   "source": []
  },
  {
   "cell_type": "code",
   "execution_count": null,
   "id": "75d97745-d81c-4d25-a7f5-189d8cdda740",
   "metadata": {},
   "outputs": [],
   "source": []
  },
  {
   "cell_type": "markdown",
   "id": "1a892bf6-914d-4990-ad6e-d5bf292e9b8e",
   "metadata": {},
   "source": [
    "Explicamos\n",
    "\n",
    "Comentamos"
   ]
  },
  {
   "cell_type": "code",
   "execution_count": null,
   "id": "b9d45150-63a7-4253-9588-1203430663e8",
   "metadata": {},
   "outputs": [],
   "source": []
  }
 ],
 "metadata": {
  "kernelspec": {
   "display_name": "Python 3",
   "language": "python",
   "name": "python3"
  },
  "language_info": {
   "codemirror_mode": {
    "name": "ipython",
    "version": 3
   },
   "file_extension": ".py",
   "mimetype": "text/x-python",
   "name": "python",
   "nbconvert_exporter": "python",
   "pygments_lexer": "ipython3",
   "version": "3.8.8"
  }
 },
 "nbformat": 4,
 "nbformat_minor": 5
}
