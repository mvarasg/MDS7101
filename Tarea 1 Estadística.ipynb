{
 "cells": [
  {
   "cell_type": "markdown",
   "id": "c770d359-273d-4127-8c0b-53320062a59d",
   "metadata": {},
   "source": [
    "# Tarea 1: Probabilidades - Estimadores - Test de Hipótesis \n",
    "\n",
    "#### MDS7101 Estadística: Teoría y Aplicaciones\n",
    "**Profesora:** Constanza Contreras  \n",
    "**Auxiliar:** Carolina Salgado  \n",
    "**Ayudante:** Camila Pulgar  \n",
    "  \n",
    "**Estudiantes:** Canela Orellana y Maximiliano Varas\n"
   ]
  },
  {
   "cell_type": "markdown",
   "id": "59681524-f69c-4ea8-9a15-256a8e2cc978",
   "metadata": {},
   "source": [
    "# Parte 1: Planteamiento"
   ]
  },
  {
   "cell_type": "markdown",
   "id": "616b6aca-8be0-4a61-b384-f424df49f6b5",
   "metadata": {},
   "source": [
    "### 1. \n",
    "**Plantee su pregunta de investigación. Entregue contexto y describa el set de datos que utilizará para su análisis**"
   ]
  },
  {
   "cell_type": "markdown",
   "id": "760c6737-f8f9-4b76-97cd-34e0bf12da83",
   "metadata": {},
   "source": [
    "lalala esta es la pregunta\n",
    "\n",
    "Hace años que en Chile se producen incendios forestales cada verano, algunos de los cuales han sido realmente devastadores.\n",
    "\n",
    "Dado este contexto, se encontró un dataset que contiene los datos de los incendios forestales en Chile durante el año 2017, año durante el cual, los incendios fueron especialmente catastróficos y afectaron muchas zonas del país."
   ]
  },
  {
   "cell_type": "code",
   "execution_count": 1,
   "id": "be8a8539-32ca-4fea-8c68-a706df660259",
   "metadata": {},
   "outputs": [],
   "source": [
    "# Paquetes para tratamiento de datos\n",
    "import pandas as pd\n",
    "import numpy as np\n",
    "\n",
    "# Librerías gráficas\n",
    "import matplotlib.pyplot as plt\n",
    "import seaborn as sns\n",
    "\n",
    "# Paquetes estadísticos\n",
    "from scipy.stats import norm, lognorm, kstest, ttest_ind\n",
    "import statsmodels.api as sm\n",
    "\n",
    "# Librerías para machine learning\n",
    "from sklearn.preprocessing import LabelEncoder\n",
    "from sklearn.model_selection import train_test_split\n",
    "from sklearn.ensemble import RandomForestClassifier\n",
    "from sklearn.metrics import classification_report"
   ]
  },
  {
   "cell_type": "code",
   "execution_count": 3,
   "id": "bfb09bb6-8cf4-4aa3-9218-c4863c118c89",
   "metadata": {},
   "outputs": [
    {
     "data": {
      "text/html": [
       "<div>\n",
       "<style scoped>\n",
       "    .dataframe tbody tr th:only-of-type {\n",
       "        vertical-align: middle;\n",
       "    }\n",
       "\n",
       "    .dataframe tbody tr th {\n",
       "        vertical-align: top;\n",
       "    }\n",
       "\n",
       "    .dataframe thead th {\n",
       "        text-align: right;\n",
       "    }\n",
       "</style>\n",
       "<table border=\"1\" class=\"dataframe\">\n",
       "  <thead>\n",
       "    <tr style=\"text-align: right;\">\n",
       "      <th></th>\n",
       "      <th>Unnamed: 0</th>\n",
       "      <th>temporada</th>\n",
       "      <th>codreg</th>\n",
       "      <th>codprov</th>\n",
       "      <th>codcom</th>\n",
       "      <th>ambito</th>\n",
       "      <th>numero</th>\n",
       "      <th>nombre_inc</th>\n",
       "      <th>utm_este</th>\n",
       "      <th>utm_norte</th>\n",
       "      <th>...</th>\n",
       "      <th>arbolado</th>\n",
       "      <th>matorral</th>\n",
       "      <th>pastizal</th>\n",
       "      <th>total_veg</th>\n",
       "      <th>agricola</th>\n",
       "      <th>desechos</th>\n",
       "      <th>total_otra</th>\n",
       "      <th>sup_t_a</th>\n",
       "      <th>long</th>\n",
       "      <th>lat</th>\n",
       "    </tr>\n",
       "  </thead>\n",
       "  <tbody>\n",
       "    <tr>\n",
       "      <th>0</th>\n",
       "      <td>0</td>\n",
       "      <td>2016-2017</td>\n",
       "      <td>3</td>\n",
       "      <td>33</td>\n",
       "      <td>3301</td>\n",
       "      <td>Conaf</td>\n",
       "      <td>2.0</td>\n",
       "      <td>CALLEJÓN MARTINEZ</td>\n",
       "      <td>326931.0</td>\n",
       "      <td>6838495.0</td>\n",
       "      <td>...</td>\n",
       "      <td>0.0</td>\n",
       "      <td>0.20</td>\n",
       "      <td>0.00</td>\n",
       "      <td>0.20</td>\n",
       "      <td>0.0</td>\n",
       "      <td>0.0</td>\n",
       "      <td>0.0</td>\n",
       "      <td>0.20</td>\n",
       "      <td>326931.0</td>\n",
       "      <td>6838495.0</td>\n",
       "    </tr>\n",
       "    <tr>\n",
       "      <th>1</th>\n",
       "      <td>1</td>\n",
       "      <td>2016-2017</td>\n",
       "      <td>3</td>\n",
       "      <td>33</td>\n",
       "      <td>3301</td>\n",
       "      <td>Conaf</td>\n",
       "      <td>3.0</td>\n",
       "      <td>PERALES</td>\n",
       "      <td>322031.0</td>\n",
       "      <td>6840235.0</td>\n",
       "      <td>...</td>\n",
       "      <td>0.0</td>\n",
       "      <td>0.10</td>\n",
       "      <td>0.00</td>\n",
       "      <td>0.10</td>\n",
       "      <td>0.0</td>\n",
       "      <td>0.0</td>\n",
       "      <td>0.0</td>\n",
       "      <td>0.10</td>\n",
       "      <td>322031.0</td>\n",
       "      <td>6840235.0</td>\n",
       "    </tr>\n",
       "    <tr>\n",
       "      <th>2</th>\n",
       "      <td>2</td>\n",
       "      <td>2016-2017</td>\n",
       "      <td>3</td>\n",
       "      <td>33</td>\n",
       "      <td>3301</td>\n",
       "      <td>Conaf</td>\n",
       "      <td>4.0</td>\n",
       "      <td>TORINO</td>\n",
       "      <td>329713.0</td>\n",
       "      <td>6836541.0</td>\n",
       "      <td>...</td>\n",
       "      <td>0.0</td>\n",
       "      <td>0.05</td>\n",
       "      <td>0.00</td>\n",
       "      <td>0.05</td>\n",
       "      <td>0.0</td>\n",
       "      <td>0.0</td>\n",
       "      <td>0.0</td>\n",
       "      <td>0.27</td>\n",
       "      <td>329713.0</td>\n",
       "      <td>6836541.0</td>\n",
       "    </tr>\n",
       "    <tr>\n",
       "      <th>3</th>\n",
       "      <td>3</td>\n",
       "      <td>2016-2017</td>\n",
       "      <td>3</td>\n",
       "      <td>33</td>\n",
       "      <td>3301</td>\n",
       "      <td>Conaf</td>\n",
       "      <td>5.0</td>\n",
       "      <td>LA VERBENA</td>\n",
       "      <td>335543.0</td>\n",
       "      <td>6829112.0</td>\n",
       "      <td>...</td>\n",
       "      <td>0.0</td>\n",
       "      <td>0.00</td>\n",
       "      <td>0.18</td>\n",
       "      <td>0.18</td>\n",
       "      <td>0.0</td>\n",
       "      <td>0.0</td>\n",
       "      <td>0.0</td>\n",
       "      <td>0.18</td>\n",
       "      <td>335543.0</td>\n",
       "      <td>6829112.0</td>\n",
       "    </tr>\n",
       "    <tr>\n",
       "      <th>4</th>\n",
       "      <td>4</td>\n",
       "      <td>2016-2017</td>\n",
       "      <td>3</td>\n",
       "      <td>33</td>\n",
       "      <td>3304</td>\n",
       "      <td>Conaf</td>\n",
       "      <td>6.0</td>\n",
       "      <td>PLAYA GRANDE HUASCO</td>\n",
       "      <td>283796.0</td>\n",
       "      <td>6849977.0</td>\n",
       "      <td>...</td>\n",
       "      <td>0.0</td>\n",
       "      <td>4.35</td>\n",
       "      <td>0.00</td>\n",
       "      <td>4.35</td>\n",
       "      <td>0.0</td>\n",
       "      <td>0.0</td>\n",
       "      <td>0.0</td>\n",
       "      <td>4.35</td>\n",
       "      <td>283796.0</td>\n",
       "      <td>6849977.0</td>\n",
       "    </tr>\n",
       "  </tbody>\n",
       "</table>\n",
       "<p>5 rows × 30 columns</p>\n",
       "</div>"
      ],
      "text/plain": [
       "   Unnamed: 0  temporada  codreg  codprov  codcom ambito  numero  \\\n",
       "0           0  2016-2017       3       33    3301  Conaf     2.0   \n",
       "1           1  2016-2017       3       33    3301  Conaf     3.0   \n",
       "2           2  2016-2017       3       33    3301  Conaf     4.0   \n",
       "3           3  2016-2017       3       33    3301  Conaf     5.0   \n",
       "4           4  2016-2017       3       33    3304  Conaf     6.0   \n",
       "\n",
       "            nombre_inc  utm_este  utm_norte  ... arbolado matorral  pastizal  \\\n",
       "0    CALLEJÓN MARTINEZ  326931.0  6838495.0  ...      0.0     0.20      0.00   \n",
       "1              PERALES  322031.0  6840235.0  ...      0.0     0.10      0.00   \n",
       "2               TORINO  329713.0  6836541.0  ...      0.0     0.05      0.00   \n",
       "3           LA VERBENA  335543.0  6829112.0  ...      0.0     0.00      0.18   \n",
       "4  PLAYA GRANDE HUASCO  283796.0  6849977.0  ...      0.0     4.35      0.00   \n",
       "\n",
       "  total_veg  agricola  desechos  total_otra  sup_t_a      long        lat  \n",
       "0      0.20       0.0       0.0         0.0     0.20  326931.0  6838495.0  \n",
       "1      0.10       0.0       0.0         0.0     0.10  322031.0  6840235.0  \n",
       "2      0.05       0.0       0.0         0.0     0.27  329713.0  6836541.0  \n",
       "3      0.18       0.0       0.0         0.0     0.18  335543.0  6829112.0  \n",
       "4      4.35       0.0       0.0         0.0     4.35  283796.0  6849977.0  \n",
       "\n",
       "[5 rows x 30 columns]"
      ]
     },
     "execution_count": 3,
     "metadata": {},
     "output_type": "execute_result"
    }
   ],
   "source": [
    "df = pd.read_csv(\"Conaf_Data_Chile_2017.csv\")\n",
    "df.head()"
   ]
  },
  {
   "cell_type": "markdown",
   "id": "bf71ffd3-5ccb-4737-8ae7-4f0a225e4170",
   "metadata": {},
   "source": [
    "### 2. \n",
    "**Seleccione la (o las) variables que considere le permiten caracterizar el fenómeno a estudiar y grafíquela(s)**"
   ]
  },
  {
   "cell_type": "markdown",
   "id": "935e87b0-5840-4a74-98f7-11aa8b05ef19",
   "metadata": {},
   "source": [
    "las variables a que caracterizan el fenómenose encontrarán según..."
   ]
  },
  {
   "cell_type": "code",
   "execution_count": 8,
   "id": "c184b889-9278-427d-9cd1-652e13455db6",
   "metadata": {},
   "outputs": [
    {
     "name": "stdout",
     "output_type": "stream",
     "text": [
      "<class 'pandas.core.frame.DataFrame'>\n",
      "RangeIndex: 5234 entries, 0 to 5233\n",
      "Data columns (total 30 columns):\n",
      " #   Column      Non-Null Count  Dtype  \n",
      "---  ------      --------------  -----  \n",
      " 0   Unnamed: 0  5234 non-null   int64  \n",
      " 1   temporada   5234 non-null   object \n",
      " 2   codreg      5234 non-null   int64  \n",
      " 3   codprov     5234 non-null   int64  \n",
      " 4   codcom      5234 non-null   int64  \n",
      " 5   ambito      5234 non-null   object \n",
      " 6   numero      5234 non-null   float64\n",
      " 7   nombre_inc  5234 non-null   object \n",
      " 8   utm_este    5234 non-null   float64\n",
      " 9   utm_norte   5234 non-null   float64\n",
      " 10  inicio_c    5234 non-null   object \n",
      " 11  combus_i    5234 non-null   object \n",
      " 12  causa_gene  5234 non-null   float64\n",
      " 13  causa_espe  5234 non-null   object \n",
      " 14  pino_0010   5234 non-null   float64\n",
      " 15  pino_11_17  5234 non-null   float64\n",
      " 16  pino_18     5234 non-null   float64\n",
      " 17  eucalipto   5234 non-null   float64\n",
      " 18  otras_plan  5234 non-null   float64\n",
      " 19  total_plan  5234 non-null   float64\n",
      " 20  arbolado    5234 non-null   float64\n",
      " 21  matorral    5234 non-null   float64\n",
      " 22  pastizal    5234 non-null   float64\n",
      " 23  total_veg   5234 non-null   float64\n",
      " 24  agricola    5234 non-null   float64\n",
      " 25  desechos    5234 non-null   float64\n",
      " 26  total_otra  5234 non-null   float64\n",
      " 27  sup_t_a     5234 non-null   float64\n",
      " 28  long        5234 non-null   float64\n",
      " 29  lat         5234 non-null   float64\n",
      "dtypes: float64(20), int64(4), object(6)\n",
      "memory usage: 1.2+ MB\n"
     ]
    }
   ],
   "source": [
    "df.info()"
   ]
  },
  {
   "cell_type": "code",
   "execution_count": 10,
   "id": "1dbfdf97-0477-49ae-adb5-26e42e33aa1e",
   "metadata": {},
   "outputs": [
    {
     "data": {
      "text/plain": [
       "Unnamed: 0    0\n",
       "temporada     0\n",
       "codreg        0\n",
       "codprov       0\n",
       "codcom        0\n",
       "ambito        0\n",
       "numero        0\n",
       "nombre_inc    0\n",
       "utm_este      0\n",
       "utm_norte     0\n",
       "inicio_c      0\n",
       "combus_i      0\n",
       "causa_gene    0\n",
       "causa_espe    0\n",
       "pino_0010     0\n",
       "pino_11_17    0\n",
       "pino_18       0\n",
       "eucalipto     0\n",
       "otras_plan    0\n",
       "total_plan    0\n",
       "arbolado      0\n",
       "matorral      0\n",
       "pastizal      0\n",
       "total_veg     0\n",
       "agricola      0\n",
       "desechos      0\n",
       "total_otra    0\n",
       "sup_t_a       0\n",
       "long          0\n",
       "lat           0\n",
       "dtype: int64"
      ]
     },
     "execution_count": 10,
     "metadata": {},
     "output_type": "execute_result"
    }
   ],
   "source": [
    "df.isnull().sum()"
   ]
  },
  {
   "cell_type": "code",
   "execution_count": null,
   "id": "9ab1f0a0-e9c4-4daf-aaab-7b6c6dd4c2e9",
   "metadata": {},
   "outputs": [],
   "source": []
  },
  {
   "cell_type": "code",
   "execution_count": 14,
   "id": "da3a7cdf-44d6-438b-ad41-ce702754e634",
   "metadata": {},
   "outputs": [
    {
     "data": {
      "text/plain": [
       "array(['2.1.8.', '1.2.4.', '4.1.2.', '2.1.11.', '4.1.1.', '1.8.1.',\n",
       "       '1.7.1.', '1.4.5.', '2.1.7.', '1.8.13.', '1.2.10.', '1.9.3.',\n",
       "       '1.9.4.', '1.7.3.', '1.2.2.', '1.10.2.', '1.2.1.', '1.1.10.',\n",
       "       '2.1.1.', '1.9.1.', '1.2.6.', '1.10.5.', '1.2.5.', '1.1.7.',\n",
       "       '1.4.1.', '1.1.9.', '1.8.14.', '1.10.3.', '1.1.19.', '1.6.3.',\n",
       "       '1.4.6.', '1.1.18.', '1.1.20.', '1.7.4.', '1.1.21.', '1.1.1.',\n",
       "       '1.1.2.', '3.1.3.', '1.10.1.', '1.2.3.', '1.2.7.', '1.10.6.',\n",
       "       '1.4.3.', '1.6.1.', '1.3.1.', '1.7.2.', '1.9.2.', '2.1.3.',\n",
       "       '2.1.5.', '1.1.11.', '1.8.7.', '2.1.6.', '1.3.3.', '3.1.1.',\n",
       "       '1.8.5.', '1.4.4.', '1.4.2.', '1.8.4.', '1.5.1.', '2.1.10.',\n",
       "       '1.10.4.', '1.8.11.', '1.3.2.', '1.1.6.', '1.1.17.', '1.1.5.',\n",
       "       '1.5.4.', '1.1.14.', '1.1.22.', '1.2.9.', '1.8.12.', '1.2.8.',\n",
       "       '2.1.9.', '1.8.3.', '1.1.12.', '2.1.2.', '1.6.2.', '2.1.4.',\n",
       "       '1.1.4.', '1.8.9.', '1.8.10.', '1.1.8.', '1.1.15.', '1.8.6.',\n",
       "       '1.1.23.', '1.8.8.'], dtype=object)"
      ]
     },
     "execution_count": 14,
     "metadata": {},
     "output_type": "execute_result"
    }
   ],
   "source": [
    "df[\"causa_espe\"].unique()"
   ]
  },
  {
   "cell_type": "code",
   "execution_count": null,
   "id": "965baaa8-e14f-49be-8d5b-2d4a9bc96237",
   "metadata": {},
   "outputs": [],
   "source": []
  },
  {
   "cell_type": "markdown",
   "id": "22493f6f-e8dc-4cbb-a557-a7acadcb3423",
   "metadata": {},
   "source": [
    "Los gráficos que son interesantes de analizar son..."
   ]
  },
  {
   "cell_type": "code",
   "execution_count": null,
   "id": "75dde0f0-85eb-4f01-b042-8a1fbaef8482",
   "metadata": {},
   "outputs": [],
   "source": [
    "#Gráficos de las variables\n",
    "#qqplots\n"
   ]
  },
  {
   "cell_type": "markdown",
   "id": "a1cee693-a9af-429c-ad39-490033c656eb",
   "metadata": {},
   "source": [
    "### 3.\n",
    "**Explique el (los) gráficos realizados, ¿Qué distribución sigue el fenómeno?, ¿Qué factores\n",
    "podrían estar explicando este comportamiento?**"
   ]
  },
  {
   "cell_type": "markdown",
   "id": "3652d137-39b9-4af4-9cac-708e3013f0ae",
   "metadata": {},
   "source": [
    "lalala gráficos.\n",
    "\n",
    "Se observa que la distribución es similar a una...\n",
    "\n",
    "lo cual se podría deber a.... "
   ]
  },
  {
   "cell_type": "code",
   "execution_count": null,
   "id": "07fb6205-99d2-4bed-bd70-1e61fba4ab58",
   "metadata": {},
   "outputs": [],
   "source": [
    "#En vola un gráfico de comparación, superponiendo la distribución que decimos que se parece\n",
    "#y la observada en los datos"
   ]
  },
  {
   "cell_type": "markdown",
   "id": "5a90b072-64b7-459b-8e20-71bc870f31fa",
   "metadata": {},
   "source": [
    "### 4.\n",
    "**Plantee una (o varias) distribuciones que serían buenas candidatas para modelar lo que está estudiando. Justifique su elección. Estime los parámetros de esa (o esas) distribución y analice los resultados del modelo planteado con respecto a los datos. ¿Cómo es el ajuste? ¿Cuáles factores podrían explicar las diferencias entre los datos y el modelo?**"
   ]
  },
  {
   "cell_type": "markdown",
   "id": "f724f298-3981-4ae0-bca9-8037761e319f",
   "metadata": {},
   "source": [
    "No entiendo la diferencia entre esta parte y la anterior D:"
   ]
  },
  {
   "cell_type": "markdown",
   "id": "06bddb25-56b1-4ccc-86ad-d43f643b8c7f",
   "metadata": {},
   "source": [
    "# Parte 2: Análisis"
   ]
  },
  {
   "cell_type": "markdown",
   "id": "8ccd7f02-4abb-4014-9bbc-76a06f5d18e7",
   "metadata": {},
   "source": [
    "**Para esta parte se espera que profundice en los resultados obtenidos en la parte 1, relacionándolos con los conceptos que hemos visto en el curso. Todo esto por medio de un análisis exhaustivo de su problema y su entendimiento de los contenidos revisados en clases. Dentro de ese análisis, responda: ¿Entre qué rangos se mueve su estimación? ¿Qué tan satisfecho está con esta estimación? ¿Por qué? ¿Qué ocurre con las variables que podrían incidir en su resultado? Presente cálculos si puede hacerlo o justificaciones/fundamentos teóricos si no tiene datos para caracterizarlas.**"
   ]
  },
  {
   "cell_type": "code",
   "execution_count": null,
   "id": "f0fbe531-6688-401a-bc49-dc8a6f943683",
   "metadata": {},
   "outputs": [],
   "source": []
  },
  {
   "cell_type": "code",
   "execution_count": null,
   "id": "75d97745-d81c-4d25-a7f5-189d8cdda740",
   "metadata": {},
   "outputs": [],
   "source": []
  },
  {
   "cell_type": "markdown",
   "id": "15254507-d5b0-4405-8b31-3c59df171b84",
   "metadata": {},
   "source": [
    "# Parte 3: Analizando resultados de un modelo de ciencia de datos"
   ]
  },
  {
   "cell_type": "markdown",
   "id": "3957313a-7834-40dc-97ae-2c6dfd23e817",
   "metadata": {},
   "source": [
    "### 1.\n",
    "**Escoja un modelo clásico de ciencia de datos que sea comúnmente utilizado para abordar la problemática que está estudiando. Aplíquelo en sus datos y presente sus resultados. Si lo desea puede utilizar distintas configuraciones o modelos para entrenar con sus datos. Presente las métricas comunes para evaluar la calidad de su modelo. Explique y comente.**"
   ]
  },
  {
   "cell_type": "code",
   "execution_count": null,
   "id": "a26efe65-1dcf-4f46-bad2-e8cb7151cdb4",
   "metadata": {},
   "outputs": [],
   "source": [
    "#Entrenar con una grid?"
   ]
  },
  {
   "cell_type": "code",
   "execution_count": null,
   "id": "8177aded-0c9d-419c-9fa4-9d5bf0c05947",
   "metadata": {},
   "outputs": [],
   "source": [
    "#Métricas"
   ]
  },
  {
   "cell_type": "code",
   "execution_count": null,
   "id": "55b01a01-39a5-4196-b4d3-385d59a0cf97",
   "metadata": {},
   "outputs": [],
   "source": [
    "#Gráficos"
   ]
  },
  {
   "cell_type": "markdown",
   "id": "1a892bf6-914d-4990-ad6e-d5bf292e9b8e",
   "metadata": {},
   "source": [
    "Explicamos\n",
    "\n",
    "Comentamos"
   ]
  },
  {
   "cell_type": "markdown",
   "id": "a9c29d31-2320-4a1f-881c-e1920eaa33d4",
   "metadata": {},
   "source": [
    "### 2. \n",
    "**Utilizando la siguiente función:\n",
    "$$Bias=E[\\hat{\\Theta}]-\\Theta$$\n",
    "Analice el trade-off de sesgo y varianza presente en sus resultados. ¿Es coherente lo descrito por las métricas con que evaluó su modelo de ciencia de datos con lo obtenido por esta función? Analice y comente los resultados obtenidos, si son coherentes con la teoría y a qué explicaría lo obtenido.**"
   ]
  },
  {
   "cell_type": "code",
   "execution_count": null,
   "id": "97a1a1d7-cff7-4b8f-9992-1d0a84cb770b",
   "metadata": {},
   "outputs": [],
   "source": [
    "#Función"
   ]
  },
  {
   "cell_type": "markdown",
   "id": "4cbd6d69-2213-4934-8f28-0c9a300ecdcc",
   "metadata": {},
   "source": [
    "Comentarios sobre coherencia y blabla"
   ]
  }
 ],
 "metadata": {
  "kernelspec": {
   "display_name": "Python 3",
   "language": "python",
   "name": "python3"
  },
  "language_info": {
   "codemirror_mode": {
    "name": "ipython",
    "version": 3
   },
   "file_extension": ".py",
   "mimetype": "text/x-python",
   "name": "python",
   "nbconvert_exporter": "python",
   "pygments_lexer": "ipython3",
   "version": "3.8.8"
  }
 },
 "nbformat": 4,
 "nbformat_minor": 5
}
